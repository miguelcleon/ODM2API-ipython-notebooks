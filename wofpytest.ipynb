{
 "cells": [
  {
   "cell_type": "markdown",
   "metadata": {},
   "source": [
    "# Testing WOFpy SOAP and REST for WOF/WaterML 1.1\n",
    "Testing performed on cloud-based WOFpy endpoints with ODM2 timeseries MySQL and PostgreSQL backends. These resources are managed by WOFpy developers for WOFpy testing and validation.\n",
    "\n",
    "8/19/2017. Don Setiawan and Emilio Mayorga\n",
    "\n",
    "Updates:\n",
    "- 8/21/2017 Added the printing of Exception, and spaces between requests"
   ]
  },
  {
   "cell_type": "code",
   "execution_count": 1,
   "metadata": {},
   "outputs": [],
   "source": [
    "from urlparse import urljoin\n",
    "import io\n",
    "\n",
    "import requests\n",
    "import ulmo\n",
    "import sys, traceback"
   ]
  },
  {
   "cell_type": "code",
   "execution_count": 2,
   "metadata": {},
   "outputs": [
    {
     "name": "stdout",
     "output_type": "stream",
     "text": [
      "\n",
      "    ulmo.cuahsi.wof\n",
      "    ~~~~~~~~~~~~~~~\n",
      "\n",
      "    `CUAHSI WaterOneFlow`_ web services\n",
      "\n",
      "    .. _CUAHSI WaterOneFlow: http://his.cuahsi.org/wofws.html\n",
      "\n"
     ]
    }
   ],
   "source": [
    "print(ulmo.cuahsi.wof.__doc__)"
   ]
  },
  {
   "cell_type": "code",
   "execution_count": 4,
   "metadata": {},
   "outputs": [
    {
     "name": "stdout",
     "output_type": "stream",
     "text": [
      "['absolute_import', 'core', 'get_site_info', 'get_sites', 'get_values', 'get_variable_info']\n"
     ]
    }
   ],
   "source": [
    "print([obj for obj in dir(ulmo.cuahsi.wof) if not obj.startswith('__')])"
   ]
  },
  {
   "cell_type": "code",
   "execution_count": 5,
   "metadata": {
    "collapsed": true
   },
   "outputs": [],
   "source": [
    "def get_exception(exc_info):\n",
    "    exc_type, exc_value, exc_traceback = exc_info\n",
    "    print('*** {}:'.format(exc_type.__name__))\n",
    "    traceback.print_exception(exc_type, exc_value, exc_traceback, file=sys.stdout)\n",
    "    print('')"
   ]
  },
  {
   "cell_type": "markdown",
   "metadata": {},
   "source": [
    "## Endpoints and testing resources"
   ]
  },
  {
   "cell_type": "code",
   "execution_count": 12,
   "metadata": {},
   "outputs": [],
   "source": [
    "def site_and_variable_codes(networkcode):\n",
    "    sitecode = '{netcode}:Rio Icacos Trib-IO'.format(netcode=networkcode)\n",
    "    variablecode = '{netcode}:DO Concentration'.format(netcode=networkcode)\n",
    "    return sitecode, variablecode"
   ]
  },
  {
   "cell_type": "code",
   "execution_count": 15,
   "metadata": {
    "collapsed": true
   },
   "outputs": [],
   "source": [
    "# server_base_url = 'http://54.186.36.247:8080'\n",
    "\n",
    "#http://odm2admin.cuahsi.org/odm2timeseries/soap/cuahsi_1_1/.wsdl\n",
    "#http://odm2admin.cuahsi.org/wofpy/odm2timeseries/soap/cuahsi_1_1/\n",
    "\n",
    "# http://odm2admin.cuahsi.org/wofpy/odm2timeseries/rest/1_1/GetSites?site=odm2timeseries:Rio%20Icacos%20Trib-IO\n",
    "server_base_url = 'http://odm2admin.cuahsi.org/wofpy'        \n",
    "networkcodes = ['wofpy/odm2timeseries']"
   ]
  },
  {
   "cell_type": "markdown",
   "metadata": {},
   "source": [
    "## SOAP 1.1 Testing"
   ]
  },
  {
   "cell_type": "code",
   "execution_count": 16,
   "metadata": {
    "scrolled": false
   },
   "outputs": [
    {
     "name": "stdout",
     "output_type": "stream",
     "text": [
      "--------------------------\n",
      "Testing http://odm2admin.cuahsi.org/wofpy/odm2timeseries/soap/cuahsi_1_1/.wsdl\n",
      "--------------------------\n",
      "SITES-----------------\n"
     ]
    },
    {
     "name": "stderr",
     "output_type": "stream",
     "text": [
      "<suds.sax.document.Document instance at 0x7f4317d5fab8>\n"
     ]
    },
    {
     "name": "stdout",
     "output_type": "stream",
     "text": [
      "GetSites failed!\n",
      "*** AttributeError:\n",
      "Traceback (most recent call last):\n",
      "  File \"<ipython-input-16-3757df3e4b2c>\", line 12, in <module>\n",
      "    sites = ulmo.cuahsi.wof.get_sites(url)\n",
      "  File \"/opt/conda/envs/python2/lib/python2.7/site-packages/ulmo/cuahsi/wof/core.py\", line 58, in get_sites\n",
      "    response = suds_client.service.GetSites('')\n",
      "  File \"/opt/conda/envs/python2/lib/python2.7/site-packages/suds/client.py\", line 521, in __call__\n",
      "    return client.invoke(args, kwargs)\n",
      "  File \"/opt/conda/envs/python2/lib/python2.7/site-packages/suds/client.py\", line 581, in invoke\n",
      "    result = self.send(soapenv)\n",
      "  File \"/opt/conda/envs/python2/lib/python2.7/site-packages/suds/client.py\", line 621, in send\n",
      "    original_soapenv=original_soapenv)\n",
      "  File \"/opt/conda/envs/python2/lib/python2.7/site-packages/suds/client.py\", line 685, in process_reply\n",
      "    self.method, replyroot)\n",
      "  File \"/opt/conda/envs/python2/lib/python2.7/site-packages/suds/bindings/binding.py\", line 136, in get_reply\n",
      "    soapbody = self.multiref.process(soapbody)\n",
      "  File \"/opt/conda/envs/python2/lib/python2.7/site-packages/suds/bindings/multiref.py\", line 50, in process\n",
      "    self.build_catalog(body)\n",
      "  File \"/opt/conda/envs/python2/lib/python2.7/site-packages/suds/bindings/multiref.py\", line 101, in build_catalog\n",
      "    for child in body.children:\n",
      "AttributeError: 'NoneType' object has no attribute 'children'\n",
      "\n",
      "SITE INFO wofpy/odm2timeseries:Rio Icacos Trib-IO-------------\n"
     ]
    },
    {
     "name": "stderr",
     "output_type": "stream",
     "text": [
      "<suds.sax.document.Document instance at 0x7f4317d3d050>\n"
     ]
    },
    {
     "name": "stdout",
     "output_type": "stream",
     "text": [
      "GetSiteInfo failed!\n",
      "*** WebFault:\n",
      "Traceback (most recent call last):\n",
      "  File \"<ipython-input-16-3757df3e4b2c>\", line 23, in <module>\n",
      "    siteinfo = ulmo.cuahsi.wof.get_site_info(url, site_code=sitecode)\n",
      "  File \"/opt/conda/envs/python2/lib/python2.7/site-packages/ulmo/cuahsi/wof/core.py\", line 103, in get_site_info\n",
      "    response = suds_client.service.GetSiteInfo(site_code)\n",
      "  File \"/opt/conda/envs/python2/lib/python2.7/site-packages/suds/client.py\", line 521, in __call__\n",
      "    return client.invoke(args, kwargs)\n",
      "  File \"/opt/conda/envs/python2/lib/python2.7/site-packages/suds/client.py\", line 581, in invoke\n",
      "    result = self.send(soapenv)\n",
      "  File \"/opt/conda/envs/python2/lib/python2.7/site-packages/suds/client.py\", line 619, in send\n",
      "    description=tostr(e), original_soapenv=original_soapenv)\n",
      "  File \"/opt/conda/envs/python2/lib/python2.7/site-packages/suds/client.py\", line 670, in process_reply\n",
      "    raise WebFault(fault, replyroot)\n",
      "WebFault: Server raised fault: ''NoneType' object has no attribute 'SiteName''\n",
      "\n",
      "VARIABLES-------------\n"
     ]
    },
    {
     "name": "stderr",
     "output_type": "stream",
     "text": [
      "<suds.sax.document.Document instance at 0x7f4317d25cf8>\n",
      "<suds.sax.document.Document instance at 0x7f431805a1b8>\n"
     ]
    },
    {
     "name": "stdout",
     "output_type": "stream",
     "text": [
      "GetVariables failed!\n",
      "*** WebFault:\n",
      "Traceback (most recent call last):\n",
      "  File \"<ipython-input-16-3757df3e4b2c>\", line 33, in <module>\n",
      "    variables = ulmo.cuahsi.wof.get_variable_info(url)\n",
      "  File \"/opt/conda/envs/python2/lib/python2.7/site-packages/ulmo/cuahsi/wof/core.py\", line 227, in get_variable_info\n",
      "    response = suds_client.service.GetVariableInfo(variable_code)\n",
      "  File \"/opt/conda/envs/python2/lib/python2.7/site-packages/suds/client.py\", line 521, in __call__\n",
      "    return client.invoke(args, kwargs)\n",
      "  File \"/opt/conda/envs/python2/lib/python2.7/site-packages/suds/client.py\", line 581, in invoke\n",
      "    result = self.send(soapenv)\n",
      "  File \"/opt/conda/envs/python2/lib/python2.7/site-packages/suds/client.py\", line 619, in send\n",
      "    description=tostr(e), original_soapenv=original_soapenv)\n",
      "  File \"/opt/conda/envs/python2/lib/python2.7/site-packages/suds/client.py\", line 670, in process_reply\n",
      "    raise WebFault(fault, replyroot)\n",
      "WebFault: Server raised fault: ''ascii' codec can't encode character u'\\u2013' in position 263: ordinal not in range(128)'\n",
      "\n",
      "VARIABLE INFO wofpy/odm2timeseries:DO Concentration-------------\n",
      "GetVariableInfo failed!\n",
      "*** KeyError:\n",
      "Traceback (most recent call last):\n",
      "  File \"<ipython-input-16-3757df3e4b2c>\", line 45, in <module>\n",
      "    print(variable['name'])\n",
      "KeyError: 'name'\n",
      "\n",
      "VALUES----------------\n",
      "GetValues failed!\n",
      "*** WebFault:\n",
      "Traceback (most recent call last):\n",
      "  File \"<ipython-input-16-3757df3e4b2c>\", line 54, in <module>\n",
      "    values = ulmo.cuahsi.wof.get_values(url, site_code=sitecode, variable_code=variablecode)\n",
      "  File \"/opt/conda/envs/python2/lib/python2.7/site-packages/ulmo/cuahsi/wof/core.py\", line 179, in get_values\n",
      "    endDate=end_dt_isostr)\n",
      "  File \"/opt/conda/envs/python2/lib/python2.7/site-packages/suds/client.py\", line 521, in __call__\n",
      "    return client.invoke(args, kwargs)\n",
      "  File \"/opt/conda/envs/python2/lib/python2.7/site-packages/suds/client.py\", line 581, in invoke\n",
      "    result = self.send(soapenv)\n",
      "  File \"/opt/conda/envs/python2/lib/python2.7/site-packages/suds/client.py\", line 619, in send\n",
      "    description=tostr(e), original_soapenv=original_soapenv)\n",
      "  File \"/opt/conda/envs/python2/lib/python2.7/site-packages/suds/client.py\", line 670, in process_reply\n",
      "    raise WebFault(fault, replyroot)\n",
      "WebFault: Server raised fault: 'Values Not Found for None:None for dates None - None'\n",
      "\n"
     ]
    }
   ],
   "source": [
    "wofpy_wsdl_url = '/soap/cuahsi_1_1/.wsdl'\n",
    "for networkcode in networkcodes:\n",
    "    url = urljoin(server_base_url, networkcode+wofpy_wsdl_url)\n",
    "    sitecode, variablecode = site_and_variable_codes(networkcode)\n",
    "\n",
    "    print('--------------------------')\n",
    "    print('Testing {}'.format(url))\n",
    "    print('--------------------------')\n",
    "        \n",
    "    print('SITES-----------------')\n",
    "    try:\n",
    "        sites = ulmo.cuahsi.wof.get_sites(url)\n",
    "        \n",
    "        print(sites.keys())\n",
    "        print('')\n",
    "    except:\n",
    "        print('GetSites failed!')\n",
    "        get_exception(sys.exc_info())\n",
    "\n",
    "    \n",
    "    print('SITE INFO {}-------------'.format(sitecode))\n",
    "    try:\n",
    "        siteinfo = ulmo.cuahsi.wof.get_site_info(url, site_code=sitecode)\n",
    "        \n",
    "        print(siteinfo['name'])\n",
    "        print('')\n",
    "    except:\n",
    "        print('GetSiteInfo failed!')\n",
    "        get_exception(sys.exc_info())\n",
    "    \n",
    "    print('VARIABLES-------------')\n",
    "    try:\n",
    "        variables = ulmo.cuahsi.wof.get_variable_info(url)\n",
    "        \n",
    "        print(variables.keys())\n",
    "        print('')\n",
    "    except:\n",
    "        print('GetVariables failed!')\n",
    "        get_exception(sys.exc_info())\n",
    "\n",
    "    print('VARIABLE INFO {}-------------'.format(variablecode))\n",
    "    try:\n",
    "        variable = ulmo.cuahsi.wof.get_variable_info(url, variable_code=variablecode)\n",
    "        \n",
    "        print(variable['name'])\n",
    "        print('')\n",
    "    except:\n",
    "        print('GetVariableInfo failed!')\n",
    "        get_exception(sys.exc_info())\n",
    "    \n",
    "        \n",
    "    print('VALUES----------------')    \n",
    "    try:\n",
    "        values = ulmo.cuahsi.wof.get_values(url, site_code=sitecode, variable_code=variablecode)\n",
    "        \n",
    "        print(len(values['values']))\n",
    "        print('')\n",
    "    except:\n",
    "        print('GetValues failed!')\n",
    "        get_exception(sys.exc_info())"
   ]
  },
  {
   "cell_type": "markdown",
   "metadata": {},
   "source": [
    "## REST 1.1 Testing"
   ]
  },
  {
   "cell_type": "code",
   "execution_count": 17,
   "metadata": {},
   "outputs": [
    {
     "name": "stdout",
     "output_type": "stream",
     "text": [
      "--------------------------\n",
      "Testing http://odm2admin.cuahsi.org/wofpy/odm2timeseries/rest/1_1/\n",
      "--------------------------\n",
      "SITES-----------------\n",
      "['I-03', 'El Verde Soil Transect-3-23-Lower Ridge', 'El Verde Soil Transect-3-26-Lower Slope', 'El Verde Soil Transect-5-32-Mid Slope', 'El Verde Soil Transect-1-5-Lower Slope', 'I-09', 'El Verde Soil Transect-5-29-Ridge', 'Elfin SJH-WS 2015', 'Bisley slopes, 4 locations, SJH, WS 2015', 'El Verde Soil Transect-3-25-Mid Slope', 'El Verde Soil Transect-5-31-Upper Slope', 'El Verde Field Station rooftop', 'El Verde Soil Transect-1-1-Ridge', 'El Verde Soil Transect-4-19-Lower Slope', 'El Verde Soil Transect-2-11-Mid Slope', 'El Verde Soil Transect-4-18-Mid Slope', 'El Verde Soil Transect-2-8-Ridge', 'El Verde Soil Transect-3-22-Ridge', 'El Verde Soil Transect-1-2-Lower Ridge', 'El Verde Soil Transect-5-33-Lower Slope', 'RESDN', 'El Verde Soil Transect-2-12-Lower Slope', 'El Verde Ridge Locations 1', 'Bisley ridges, 4 locations, SJH, WS 2015', 'El Verde Soil Transect-4-21-Valley', 'Palm SJH, WS 2015', 'Rio Icacos Trib-IO', 'El Verde Soil Transect-2-14-Valley', 'Bisley valleys, 4 locations, SJH, WS 2015', 'El Verde Soil Transect-2-9-Lower Ridge', 'El Verde Soil Transect-1-6-Slope Break', 'El Verde Slope Break Locations 6', 'Bisley Q3', 'EP1', 'El Verde Soil Transect-3-27-Slope Break', 'QS-Quebrada Sonadora', 'El Verde Lower Ridge Locations 2', 'El Verde Soil Transect-5-35-Valley', 'Prieta', 'El Verde Soil Transect-4-17-Upper Slope', 'I-30 well with Hydrolab', 'El Verde Soil Transect-2-13-Slope Break', 'El Verde Soil Transect-4-15-Ridge', 'LGW2B', 'El Verde Mid Slope Locations 4', 'El Verde Valley Locations 7', 'El Verde Soil Transect-1-3-Upper Slope', 'El Verde Soil Transect-5-34-Slope Break', 'El Verde Lower Slope Locations 5', 'El Verde Upper Slope Locations 3', 'Quebrada Toronja', 'Icacos Pulse-RI', 'El Verde Soil Transect-3-28-Valley', 'El Verde Soil Transect-5-30-Lower Ridge', 'I-10', 'Palo colorado SJH, WS 2015', 'El Verde Soil Transect-4-20-Slope Break', 'El Verde Soil Transect-4-16-Lower Ridge', 'QS', 'El Verde Soil Transect-2-10-Upper Slope', 'El Verde Soil Transect-3-24-Upper Slope', 'RESSH', 'El Verde Soil Transect-1-4-Mid Slope', 'El Verde Soil Transect-1-7-Valley']\n",
      "\n",
      "SITE INFO wofpy/odm2timeseries:Rio Icacos Trib-IO-------------\n",
      "GetSiteInfo failed!\n",
      "*** KeyError:\n",
      "Traceback (most recent call last):\n",
      "  File \"<ipython-input-17-70fc40c441b0>\", line 28, in <module>\n",
      "    print(siteinfo[sitecode.split(':')[1]]['name'])\n",
      "KeyError: 'Rio Icacos Trib-IO'\n",
      "\n",
      "VARIABLES-------------\n",
      "[]\n",
      "\n",
      "VARIABLE INFO wofpy/odm2timeseries:DO Concentration-------------\n",
      "GetVariableInfo failed!\n",
      "*** KeyError:\n",
      "Traceback (most recent call last):\n",
      "  File \"<ipython-input-17-70fc40c441b0>\", line 52, in <module>\n",
      "    print(variable[variablecode.split(':')[1]]['name'])\n",
      "KeyError: 'DO Concentration'\n",
      "\n",
      "VALUES----------------\n",
      "GetValues failed!\n",
      "*** KeyError:\n",
      "Traceback (most recent call last):\n",
      "  File \"<ipython-input-17-70fc40c441b0>\", line 66, in <module>\n",
      "    print(len(values[variablecode.split(':')[1]]['values']))\n",
      "KeyError: 'DO Concentration'\n",
      "\n"
     ]
    }
   ],
   "source": [
    "wofpy_rest_url = '/rest/1_1/'\n",
    "for networkcode in networkcodes:\n",
    "    url = urljoin(server_base_url, networkcode+wofpy_rest_url)\n",
    "    sitecode, variablecode = site_and_variable_codes(networkcode)\n",
    "\n",
    "    print('--------------------------')\n",
    "    print('Testing {}'.format(url))\n",
    "    print('--------------------------')\n",
    "    \n",
    "    print('SITES-----------------')\n",
    "    try:\n",
    "        req = requests.get(urljoin(url, 'GetSites'))\n",
    "        response_buffer = io.BytesIO(ulmo.util.to_bytes(req.content))\n",
    "        sites = ulmo.waterml.v1_1.parse_site_infos(response_buffer)\n",
    "        \n",
    "        print(sites.keys())\n",
    "        print('')\n",
    "    except:\n",
    "        print('GetSites failed!')\n",
    "        get_exception(sys.exc_info())\n",
    "    \n",
    "    print('SITE INFO {}-------------'.format(sitecode))\n",
    "    try:\n",
    "        req = requests.get(urljoin(url, 'GetSiteInfo'), params={'site':sitecode})\n",
    "        response_buffer = io.BytesIO(ulmo.util.to_bytes(req.content))\n",
    "        siteinfo = ulmo.waterml.v1_1.parse_sites(response_buffer)\n",
    "        \n",
    "        print(siteinfo[sitecode.split(':')[1]]['name'])\n",
    "        print('')\n",
    "    except:\n",
    "        print('GetSiteInfo failed!')\n",
    "        get_exception(sys.exc_info())\n",
    "    \n",
    "    print('VARIABLES-------------')\n",
    "    try:\n",
    "        req = requests.get(urljoin(url, 'GetVariables'))\n",
    "        response_buffer = io.BytesIO(ulmo.util.to_bytes(req.content))\n",
    "        variables = ulmo.waterml.v1_1.parse_variables(response_buffer)\n",
    "        \n",
    "        print(variables.keys())\n",
    "        print('')\n",
    "    except:\n",
    "        print('GetVariables failed!')\n",
    "        get_exception(sys.exc_info())\n",
    "\n",
    "    print('VARIABLE INFO {}-------------'.format(variablecode))\n",
    "    try:\n",
    "        req = requests.get(urljoin(url, 'GetVariableInfo'), params={'variable':variablecode})\n",
    "        response_buffer = io.BytesIO(ulmo.util.to_bytes(req.content))\n",
    "        variable = ulmo.waterml.v1_1.parse_variables(response_buffer)\n",
    "        \n",
    "        print(variable[variablecode.split(':')[1]]['name'])\n",
    "        print('')\n",
    "    except:\n",
    "        print('GetVariableInfo failed!')\n",
    "        get_exception(sys.exc_info())\n",
    "    \n",
    "        \n",
    "    print('VALUES----------------')    \n",
    "    try:\n",
    "        req = requests.get(urljoin(url, 'GetValues'), params={'location':sitecode, \n",
    "                                                              'variable':variablecode})\n",
    "        response_buffer = io.BytesIO(ulmo.util.to_bytes(req.content))\n",
    "        values = ulmo.waterml.v1_1.parse_site_values(response_buffer)\n",
    "        \n",
    "        print(len(values[variablecode.split(':')[1]]['values']))\n",
    "        print('')\n",
    "    except:\n",
    "        print('GetValues failed!')\n",
    "        get_exception(sys.exc_info())"
   ]
  },
  {
   "cell_type": "code",
   "execution_count": null,
   "metadata": {
    "collapsed": true
   },
   "outputs": [],
   "source": []
  }
 ],
 "metadata": {
  "kernelspec": {
   "display_name": "Python 2",
   "language": "python",
   "name": "python2"
  },
  "language_info": {
   "codemirror_mode": {
    "name": "ipython",
    "version": 2
   },
   "file_extension": ".py",
   "mimetype": "text/x-python",
   "name": "python",
   "nbconvert_exporter": "python",
   "pygments_lexer": "ipython2",
   "version": "2.7.13"
  }
 },
 "nbformat": 4,
 "nbformat_minor": 2
}
