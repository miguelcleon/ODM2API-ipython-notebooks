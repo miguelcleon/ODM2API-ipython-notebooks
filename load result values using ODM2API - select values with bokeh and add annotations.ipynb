{
 "cells": [
  {
   "cell_type": "markdown",
   "metadata": {},
   "source": [
    "<p>1) Load all of the needed python packages to run this notebook. These include ODM2API, ipython widgets for user interaction, bokeh for interactive plots. ui_utils </p>\n"
   ]
  },
  {
   "cell_type": "code",
   "execution_count": 1,
   "metadata": {
    "collapsed": false
   },
   "outputs": [],
   "source": [
    "import sys\n",
    "import os\n",
    "import datetime\n",
    "import getpass\n",
    "import utilities.ui_utils as ui_utils\n",
    "from bokeh.plotting import  figure, show \n",
    "from IPython.display import display, HTML\n",
    "from odm2api.ODMconnection import dbconnection\n",
    "import odm2api.ODM2.services.readService as odm2\n",
    "from odm2api.ODM2.models import *\n",
    "from bokeh.io import output_notebook\n",
    "from bokeh.models import ColumnDataSource"
   ]
  },
  {
   "cell_type": "markdown",
   "metadata": {},
   "source": [
    "2) The code below retreives the ODM2 login prompt from ui_utils python code which should be in your utilities folder. This will log directly into SQL.  "
   ]
  },
  {
   "cell_type": "code",
   "execution_count": 2,
   "metadata": {
    "collapsed": false
   },
   "outputs": [],
   "source": [
    "#print(\"Enter your ODM2 username\") \n",
    "container = ui_utils.ODM2LoginPrompt()\n",
    "container"
   ]
  },
  {
   "cell_type": "markdown",
   "metadata": {},
   "source": [
    "3) Next we prompt a user for their password. "
   ]
  },
  {
   "cell_type": "code",
   "execution_count": 3,
   "metadata": {
    "collapsed": false
   },
   "outputs": [
    {
     "name": "stdout",
     "output_type": "stream",
     "text": [
      "enter your password: \n",
      "········\n"
     ]
    }
   ],
   "source": [
    "print(\"enter your password: \")\n",
    "p = getpass.getpass()"
   ]
  },
  {
   "cell_type": "markdown",
   "metadata": {},
   "source": [
    "<p> 4) Here we look into the login prompt container. to retrieve the database connection information entered by the user. </p>\n",
    "<p> 5) On the second line, I'm using the ODM2API read service for retrieving result values this should help make retrieving \n",
    "them agnostic to the result type. </p>  "
   ]
  },
  {
   "cell_type": "code",
   "execution_count": 2,
   "metadata": {
    "collapsed": false
   },
   "outputs": [],
   "source": [
    "session_factory = dbconnection.createConnection('postgresql', container.children[1].value, \n",
    "                                                container.children[2].value, \n",
    "                                                container.children[0].value, p) \n",
    "\n",
    "\n",
    "\n",
    "read = odm2.ReadODM2(session_factory)"
   ]
  },
  {
   "cell_type": "markdown",
   "metadata": {},
   "source": [
    "6) Next we retreive another UI element for selecting observation actions. Which we will use to filter results. Otherwise the list of results maybe too long. "
   ]
  },
  {
   "cell_type": "code",
   "execution_count": 3,
   "metadata": {
    "collapsed": false
   },
   "outputs": [
    {
     "name": "stdout",
     "output_type": "stream",
     "text": [
      "3\n"
     ]
    }
   ],
   "source": [
    "DBSession = session_factory.getSession()\n",
    "actionWidget, awidget = ui_utils.actionWidget(DBSession)\n",
    "display(awidget) \n"
   ]
  },
  {
   "cell_type": "markdown",
   "metadata": {},
   "source": [
    "7) Now we get a UI element for results, for which we would like to display values. "
   ]
  },
  {
   "cell_type": "code",
   "execution_count": 9,
   "metadata": {
    "collapsed": false
   },
   "outputs": [
    {
     "name": "stdout",
     "output_type": "stream",
     "text": [
      "16681\n"
     ]
    }
   ],
   "source": [
    "\n",
    "#featureaction = 1700\n",
    "actionid = actionWidget.value\n",
    "resultWidget, rwidget = ui_utils.resultWidget(read, actionid)\n",
    "display(rwidget)"
   ]
  },
  {
   "cell_type": "markdown",
   "metadata": {},
   "source": [
    "8) Now we create a UI element for entering the dates we would like to filter the time series on. "
   ]
  },
  {
   "cell_type": "code",
   "execution_count": 10,
   "metadata": {
    "collapsed": false
   },
   "outputs": [],
   "source": [
    "startdate_enddate_container = ui_utils.startDateEndDateContainer()\n",
    "startdate_enddate_container"
   ]
  },
  {
   "cell_type": "markdown",
   "metadata": {},
   "source": [
    "9) Next we read more information about the result, pull the results values for the time frame we specified and create a data dictionary our selection graph can display. "
   ]
  },
  {
   "cell_type": "code",
   "execution_count": 6,
   "metadata": {
    "collapsed": false
   },
   "outputs": [],
   "source": [
    "selectedResult = read.getDetailedResultInfo(resultTypeCV = 'Time series coverage',resultID=resultWidget.value)\n",
    "#resultValues = read.getResultValues(resultid=resultWidget.value, starttime='2016-8-1', \n",
    "#                                                 endtime= '2016-8-30')\n",
    "resultValues = read.getResultValues(resultid=resultWidget.value, starttime=startdate_enddate_container.children[0].value, \n",
    "                                                 endtime= startdate_enddate_container.children[1].value)\n",
    "data = dict(x=resultValues.ValueDateTime, y= resultValues.DataValue, z=resultValues.ValueID)"
   ]
  },
  {
   "cell_type": "markdown",
   "metadata": {
    "collapsed": false
   },
   "source": [
    "10) Now we create a bokeh (graphing package) ColumnDataSource for our graph, create our plot (also using ui_utils) and display it. "
   ]
  },
  {
   "cell_type": "code",
   "execution_count": 7,
   "metadata": {
    "collapsed": false,
    "scrolled": false
   },
   "outputs": [
    {
     "name": "stdout",
     "output_type": "stream",
     "text": [
      "7019.6\n",
      "7028.0\n"
     ]
    },
    {
     "data": {
      "text/html": [
       "\n",
       "    <div class=\"bk-banner\">\n",
       "        <a href=\"http://bokeh.pydata.org\" target=\"_blank\" class=\"bk-logo bk-logo-small bk-logo-notebook\"></a>\n",
       "        <span id=\"abf5ef74-e7e6-40e4-89c5-97d0e95964ee\">Loading BokehJS ...</span>\n",
       "    </div>"
      ]
     },
     "metadata": {},
     "output_type": "display_data"
    },
    {
     "data": {
      "application/javascript": [
       "\n",
       "(function(global) {\n",
       "  function now() {\n",
       "    return new Date();\n",
       "  }\n",
       "\n",
       "  if (typeof (window._bokeh_onload_callbacks) === \"undefined\") {\n",
       "    window._bokeh_onload_callbacks = [];\n",
       "  }\n",
       "\n",
       "  function run_callbacks() {\n",
       "    window._bokeh_onload_callbacks.forEach(function(callback) { callback() });\n",
       "    delete window._bokeh_onload_callbacks\n",
       "    console.info(\"Bokeh: all callbacks have finished\");\n",
       "  }\n",
       "\n",
       "  function load_libs(js_urls, callback) {\n",
       "    window._bokeh_onload_callbacks.push(callback);\n",
       "    if (window._bokeh_is_loading > 0) {\n",
       "      console.log(\"Bokeh: BokehJS is being loaded, scheduling callback at\", now());\n",
       "      return null;\n",
       "    }\n",
       "    if (js_urls == null || js_urls.length === 0) {\n",
       "      run_callbacks();\n",
       "      return null;\n",
       "    }\n",
       "    console.log(\"Bokeh: BokehJS not loaded, scheduling load and callback at\", now());\n",
       "    window._bokeh_is_loading = js_urls.length;\n",
       "    for (var i = 0; i < js_urls.length; i++) {\n",
       "      var url = js_urls[i];\n",
       "      var s = document.createElement('script');\n",
       "      s.src = url;\n",
       "      s.async = false;\n",
       "      s.onreadystatechange = s.onload = function() {\n",
       "        window._bokeh_is_loading--;\n",
       "        if (window._bokeh_is_loading === 0) {\n",
       "          console.log(\"Bokeh: all BokehJS libraries loaded\");\n",
       "          run_callbacks()\n",
       "        }\n",
       "      };\n",
       "      s.onerror = function() {\n",
       "        console.warn(\"failed to load library \" + url);\n",
       "      };\n",
       "      console.log(\"Bokeh: injecting script tag for BokehJS library: \", url);\n",
       "      document.getElementsByTagName(\"head\")[0].appendChild(s);\n",
       "    }\n",
       "  };\n",
       "\n",
       "  var js_urls = ['https://cdn.pydata.org/bokeh/release/bokeh-0.11.1.min.js', 'https://cdn.pydata.org/bokeh/release/bokeh-widgets-0.11.1.min.js', 'https://cdn.pydata.org/bokeh/release/bokeh-compiler-0.11.1.min.js'];\n",
       "\n",
       "  var inline_js = [\n",
       "    function(Bokeh) {\n",
       "      Bokeh.set_log_level(\"info\");\n",
       "    },\n",
       "    \n",
       "    function(Bokeh) {\n",
       "      Bokeh.$(\"#abf5ef74-e7e6-40e4-89c5-97d0e95964ee\").text(\"BokehJS successfully loaded\");\n",
       "    },\n",
       "    function(Bokeh) {\n",
       "      console.log(\"Bokeh: injecting CSS: https://cdn.pydata.org/bokeh/release/bokeh-0.11.1.min.css\");\n",
       "      Bokeh.embed.inject_css(\"https://cdn.pydata.org/bokeh/release/bokeh-0.11.1.min.css\");\n",
       "      console.log(\"Bokeh: injecting CSS: https://cdn.pydata.org/bokeh/release/bokeh-widgets-0.11.1.min.css\");\n",
       "      Bokeh.embed.inject_css(\"https://cdn.pydata.org/bokeh/release/bokeh-widgets-0.11.1.min.css\");\n",
       "    }\n",
       "  ];\n",
       "\n",
       "  function run_inline_js() {\n",
       "    for (var i = 0; i < inline_js.length; i++) {\n",
       "      inline_js[i](window.Bokeh);\n",
       "    }\n",
       "  }\n",
       "\n",
       "  if (window._bokeh_is_loading === 0) {\n",
       "    console.log(\"Bokeh: BokehJS loaded, going straight to plotting\");\n",
       "    run_inline_js();\n",
       "  } else {\n",
       "    load_libs(js_urls, function() {\n",
       "      console.log(\"Bokeh: BokehJS plotting callback run at\", now());\n",
       "      run_inline_js();\n",
       "    });\n",
       "  }\n",
       "}(this));"
      ]
     },
     "metadata": {},
     "output_type": "display_data"
    },
    {
     "data": {
      "text/html": [
       "\n",
       "\n",
       "    <div class=\"plotdiv\" id=\"92454f93-bb59-40a5-96b4-70e3d8d5356b\"></div>\n",
       "<script type=\"text/javascript\">\n",
       "  \n",
       "  (function(global) {\n",
       "    function now() {\n",
       "      return new Date();\n",
       "    }\n",
       "  \n",
       "    if (typeof (window._bokeh_onload_callbacks) === \"undefined\") {\n",
       "      window._bokeh_onload_callbacks = [];\n",
       "    }\n",
       "  \n",
       "    function run_callbacks() {\n",
       "      window._bokeh_onload_callbacks.forEach(function(callback) { callback() });\n",
       "      delete window._bokeh_onload_callbacks\n",
       "      console.info(\"Bokeh: all callbacks have finished\");\n",
       "    }\n",
       "  \n",
       "    function load_libs(js_urls, callback) {\n",
       "      window._bokeh_onload_callbacks.push(callback);\n",
       "      if (window._bokeh_is_loading > 0) {\n",
       "        console.log(\"Bokeh: BokehJS is being loaded, scheduling callback at\", now());\n",
       "        return null;\n",
       "      }\n",
       "      if (js_urls == null || js_urls.length === 0) {\n",
       "        run_callbacks();\n",
       "        return null;\n",
       "      }\n",
       "      console.log(\"Bokeh: BokehJS not loaded, scheduling load and callback at\", now());\n",
       "      window._bokeh_is_loading = js_urls.length;\n",
       "      for (var i = 0; i < js_urls.length; i++) {\n",
       "        var url = js_urls[i];\n",
       "        var s = document.createElement('script');\n",
       "        s.src = url;\n",
       "        s.async = false;\n",
       "        s.onreadystatechange = s.onload = function() {\n",
       "          window._bokeh_is_loading--;\n",
       "          if (window._bokeh_is_loading === 0) {\n",
       "            console.log(\"Bokeh: all BokehJS libraries loaded\");\n",
       "            run_callbacks()\n",
       "          }\n",
       "        };\n",
       "        s.onerror = function() {\n",
       "          console.warn(\"failed to load library \" + url);\n",
       "        };\n",
       "        console.log(\"Bokeh: injecting script tag for BokehJS library: \", url);\n",
       "        document.getElementsByTagName(\"head\")[0].appendChild(s);\n",
       "      }\n",
       "    };var element = document.getElementById(\"92454f93-bb59-40a5-96b4-70e3d8d5356b\");\n",
       "    if (element == null) {\n",
       "      console.log(\"Bokeh: ERROR: autoload.js configured with elementid '92454f93-bb59-40a5-96b4-70e3d8d5356b' but no matching script tag was found. \")\n",
       "      return false;\n",
       "    }\n",
       "  \n",
       "    var js_urls = [];\n",
       "  \n",
       "    var inline_js = [\n",
       "      function(Bokeh) {\n",
       "        Bokeh.$(function() {\n",
       "            var docs_json = {\"93202a7c-bc27-4dbc-91bf-05e6cf8aac25\":{\"roots\":{\"references\":[{\"attributes\":{\"plot\":{\"id\":\"347f1aea-15fb-41bd-8243-ac456fa99b7f\",\"subtype\":\"Figure\",\"type\":\"Plot\"},\"ticker\":{\"id\":\"075b7e1e-5ee2-4a6f-a51e-18642126304d\",\"type\":\"DatetimeTicker\"}},\"id\":\"331aca29-a9cb-4609-99db-0200c32d7d7f\",\"type\":\"Grid\"},{\"attributes\":{\"months\":[0,1,2,3,4,5,6,7,8,9,10,11]},\"id\":\"44c5a89f-947d-415f-b155-75c6a5b8d9a2\",\"type\":\"MonthsTicker\"},{\"attributes\":{},\"id\":\"4169a5e2-6aeb-4d6a-a943-346cac8cb8e8\",\"type\":\"BasicTicker\"},{\"attributes\":{},\"id\":\"7ad29f2a-ba3d-4cfa-89fd-669ceda32163\",\"type\":\"BasicTickFormatter\"},{\"attributes\":{\"callback\":{\"id\":\"df01759c-8361-492d-b917-253cedcf107d\",\"type\":\"CustomJS\"},\"column_names\":[\"y\",\"x\",\"z\"],\"data\":{\"x\":[1475280116000.0,1475281036000.0,1475281916000.0,1475317916000.0,1475318836000.0,1475319716000.0,1475320636000.0,1475321516000.0,1475322436000.0,1475323316000.0,1475324236000.0,1475325116000.0,1475326036000.0,1475326916000.0,1475327836000.0,1475328716000.0,1475329636000.0,1475330516000.0,1475331436000.0,1475332316000.0,1475333236000.0,1475334116000.0,1475335036000.0,1475335916000.0,1475336836000.0,1475337716000.0,1475338636000.0,1475339516000.0,1475340436000.0,1475341316000.0,1475342236000.0,1475343116000.0,1475344036000.0,1475344916000.0,1475345836000.0,1475346716000.0,1475347636000.0,1475348516000.0,1475349436000.0,1475350316000.0,1475351236000.0,1475352116000.0,1475353036000.0,1475353916000.0,1475354836000.0,1475355716000.0,1475356636000.0,1475357516000.0,1475407036000.0,1475407916000.0,1475408836000.0,1475409716000.0,1475410636000.0,1475411516000.0,1475412436000.0,1475413316000.0,1475414236000.0,1475415116000.0,1475416036000.0,1475416916000.0,1475417836000.0,1475418716000.0,1475419636000.0,1475420516000.0,1475421436000.0,1475422316000.0,1475423236000.0,1475424116000.0,1475425036000.0,1475425916000.0,1475426836000.0,1475427716000.0,1475428636000.0,1475429516000.0,1475430436000.0,1475431316000.0,1475432236000.0,1475433116000.0,1475434036000.0,1475434916000.0,1475435836000.0,1475436716000.0,1475437636000.0,1475438516000.0,1475439436000.0,1475440316000.0,1475502436000.0,1475503316000.0,1475504236000.0,1475505116000.0,1475506036000.0,1475506916000.0,1475507836000.0,1475641040000.0],\"y\":[7022.4,7022.4,7022.4,7022.4,7022.4,7022.4,7022.4,7023.8,7023.8,7023.8,7022.4,7023.8,7022.4,7023.8,7023.8,7022.4,7023.8,7022.4,7022.4,7022.4,7022.4,7023.8,7023.8,7023.8,7023.8,7023.8,7023.8,7023.8,7023.8,7023.8,7023.8,7023.8,7023.8,7022.4,7022.4,7021.0,7023.8,7023.8,7022.4,7023.8,7022.4,7022.4,7022.4,7022.4,7022.4,7022.4,7022.4,7022.4,7021.0,7021.0,7019.6,7022.4,7021.0,7019.6,7022.4,7022.4,7023.8,7023.8,7025.2,7025.2,7022.4,7023.8,7022.4,7022.4,7022.4,7022.4,7023.8,7022.4,7022.4,7022.4,7022.4,7022.4,7022.4,7022.4,7023.8,7023.8,7023.8,7025.2,7022.4,7022.4,7022.4,7022.4,7022.4,7022.4,7021.0,7021.0,7022.4,7022.4,7022.4,7019.6,7019.6,7019.6,7019.6,7028.0],\"z\":[5751113,5751114,5751115,5751116,5751117,5751118,5751119,5751120,5751121,5751122,5751123,5751124,5751125,5751126,5751127,5751128,5751129,5751130,5751131,5751132,5751133,5751134,5751135,5751136,5751137,5751138,5751139,5751140,5751141,5751142,5751143,5751144,5751145,5751146,5751147,5751148,5751149,5751150,5751151,5751152,5751153,5751154,5751155,5751156,5751157,5751158,5751159,5751160,5751161,5751162,5751163,5751164,5751165,5751166,5751167,5751168,5751169,5751170,5751171,5751172,5751173,5751174,5751175,5751176,5751177,5751178,5751179,5751180,5751181,5751182,5751183,5751184,5751185,5751186,5751187,5751188,5751189,5751190,5751191,5751192,5751193,5751194,5751195,5751196,5751197,5751198,5751199,5751200,5751201,5751202,5751203,5751204,5751205,5751206]}},\"id\":\"ba77ade1-7704-4520-9e23-2287eb5249df\",\"type\":\"ColumnDataSource\"},{\"attributes\":{},\"id\":\"940bd31d-9aa6-4e04-b00d-8efbcf14fd6e\",\"type\":\"YearsTicker\"},{\"attributes\":{\"days\":[1,15]},\"id\":\"a258855c-629a-48b7-b3b6-024644e7bc21\",\"type\":\"DaysTicker\"},{\"attributes\":{\"callback\":null,\"column_names\":[\"y\",\"x\"],\"data\":{\"x\":[],\"y\":[]}},\"id\":\"d1734108-ba93-4f54-8900-e8dbf6139fe5\",\"type\":\"ColumnDataSource\"},{\"attributes\":{\"base\":60,\"mantissas\":[1,2,5,10,15,20,30],\"max_interval\":1800000.0,\"min_interval\":1000.0,\"num_minor_ticks\":0},\"id\":\"29348ba1-3ff6-4fd5-925f-d8259fa1add7\",\"type\":\"AdaptiveTicker\"},{\"attributes\":{},\"id\":\"bb6694b4-eda6-4ac7-9250-a9b9bf9d81c7\",\"type\":\"DatetimeTickFormatter\"},{\"attributes\":{\"callback\":null,\"overlay\":{\"id\":\"06c501f6-a0ad-4385-8c1e-0014fe6acab0\",\"type\":\"BoxAnnotation\"},\"plot\":{\"id\":\"347f1aea-15fb-41bd-8243-ac456fa99b7f\",\"subtype\":\"Figure\",\"type\":\"Plot\"},\"renderers\":[{\"id\":\"e02ca6f5-0ee3-4768-813b-07e81382752a\",\"type\":\"GlyphRenderer\"}]},\"id\":\"335b0e72-1d01-487e-8499-630264db6005\",\"type\":\"BoxSelectTool\"},{\"attributes\":{\"callback\":null,\"end\":7028.0,\"start\":7019.6},\"id\":\"56739cda-0333-4d97-8eb4-cff13ec1cc98\",\"type\":\"Range1d\"},{\"attributes\":{\"callback\":null},\"id\":\"bfee4171-8c23-42ae-a5b9-83a96a0196cb\",\"type\":\"DataRange1d\"},{\"attributes\":{\"months\":[0,2,4,6,8,10]},\"id\":\"87ac7f8c-a434-4ede-859c-2e6c91396123\",\"type\":\"MonthsTicker\"},{\"attributes\":{\"months\":[0,1,2,3,4,5,6,7,8,9,10,11]},\"id\":\"c77b9264-fec1-425c-ad12-4111638388f9\",\"type\":\"MonthsTicker\"},{\"attributes\":{\"children\":[{\"id\":\"347f1aea-15fb-41bd-8243-ac456fa99b7f\",\"subtype\":\"Figure\",\"type\":\"Plot\"},{\"id\":\"630d1677-468e-4c0c-9095-5391bf584fbe\",\"subtype\":\"Figure\",\"type\":\"Plot\"}]},\"id\":\"77eb50f7-7f89-4884-81ac-e6f213d2cef7\",\"type\":\"HBox\"},{\"attributes\":{\"months\":[0,2,4,6,8,10]},\"id\":\"ce5e1159-4964-499b-8403-61529b2feed1\",\"type\":\"MonthsTicker\"},{\"attributes\":{\"days\":[1,8,15,22]},\"id\":\"710a3038-92e3-434a-981c-dbbfe4f02928\",\"type\":\"DaysTicker\"},{\"attributes\":{\"base\":24,\"mantissas\":[1,2,4,6,8,12],\"max_interval\":43200000.0,\"min_interval\":3600000.0,\"num_minor_ticks\":0},\"id\":\"b74e76d7-5c68-4f68-8ac1-f9709cdc7417\",\"type\":\"AdaptiveTicker\"},{\"attributes\":{\"below\":[{\"id\":\"1b369183-8522-49f0-89b1-ab9f42bffb8a\",\"type\":\"DatetimeAxis\"}],\"left\":[{\"id\":\"356536f4-8763-4641-87fc-b79f349ff6f2\",\"type\":\"LinearAxis\"}],\"plot_height\":400,\"plot_width\":400,\"renderers\":[{\"id\":\"1b369183-8522-49f0-89b1-ab9f42bffb8a\",\"type\":\"DatetimeAxis\"},{\"id\":\"5627ef0a-3cb0-4480-ba3c-d4e09b9ac522\",\"type\":\"Grid\"},{\"id\":\"356536f4-8763-4641-87fc-b79f349ff6f2\",\"type\":\"LinearAxis\"},{\"id\":\"adc975cb-0612-4ebd-b57e-4ccbd8143efb\",\"type\":\"Grid\"},{\"id\":\"8c19b1a6-c29d-40ee-87ce-699c4f9fcd10\",\"type\":\"GlyphRenderer\"}],\"title\":\"Selected Data\",\"tool_events\":{\"id\":\"0949202d-aa05-41cc-8576-f3d715f5bf5b\",\"type\":\"ToolEvents\"},\"x_range\":{\"id\":\"ce2def6e-7bd9-4fd0-a18d-65cddff4c319\",\"type\":\"DataRange1d\"},\"y_range\":{\"id\":\"56739cda-0333-4d97-8eb4-cff13ec1cc98\",\"type\":\"Range1d\"}},\"id\":\"630d1677-468e-4c0c-9095-5391bf584fbe\",\"subtype\":\"Figure\",\"type\":\"Plot\"},{\"attributes\":{\"plot\":{\"id\":\"347f1aea-15fb-41bd-8243-ac456fa99b7f\",\"subtype\":\"Figure\",\"type\":\"Plot\"}},\"id\":\"e9767085-e227-4146-9fb5-357f546cbab3\",\"type\":\"HelpTool\"},{\"attributes\":{\"callback\":null},\"id\":\"ca833cf8-ac1c-4dd8-a29a-214b972e5c5d\",\"type\":\"DataRange1d\"},{\"attributes\":{\"formatter\":{\"id\":\"7ad29f2a-ba3d-4cfa-89fd-669ceda32163\",\"type\":\"BasicTickFormatter\"},\"plot\":{\"id\":\"347f1aea-15fb-41bd-8243-ac456fa99b7f\",\"subtype\":\"Figure\",\"type\":\"Plot\"},\"ticker\":{\"id\":\"465e5b90-e06c-4a82-88db-8d030a6042e3\",\"type\":\"BasicTicker\"}},\"id\":\"ca8b7335-0fe2-4d74-a680-0b0157264a49\",\"type\":\"LinearAxis\"},{\"attributes\":{\"below\":[{\"id\":\"85dace8d-fdea-400b-9698-a0c6c3884030\",\"type\":\"DatetimeAxis\"}],\"left\":[{\"id\":\"ca8b7335-0fe2-4d74-a680-0b0157264a49\",\"type\":\"LinearAxis\"}],\"plot_height\":400,\"plot_width\":400,\"renderers\":[{\"id\":\"85dace8d-fdea-400b-9698-a0c6c3884030\",\"type\":\"DatetimeAxis\"},{\"id\":\"331aca29-a9cb-4609-99db-0200c32d7d7f\",\"type\":\"Grid\"},{\"id\":\"ca8b7335-0fe2-4d74-a680-0b0157264a49\",\"type\":\"LinearAxis\"},{\"id\":\"057d167b-620e-4f74-b5b4-af5f5fcfd7e1\",\"type\":\"Grid\"},{\"id\":\"06c501f6-a0ad-4385-8c1e-0014fe6acab0\",\"type\":\"BoxAnnotation\"},{\"id\":\"b7fc7b8c-fc48-4e11-9f8c-8703cd7434cd\",\"type\":\"PolyAnnotation\"},{\"id\":\"e02ca6f5-0ee3-4768-813b-07e81382752a\",\"type\":\"GlyphRenderer\"}],\"title\":\"CO2\",\"tool_events\":{\"id\":\"f906a1a2-868f-4ca0-8c49-7990a2f5b9b4\",\"type\":\"ToolEvents\"},\"tools\":[{\"id\":\"335b0e72-1d01-487e-8499-630264db6005\",\"type\":\"BoxSelectTool\"},{\"id\":\"74f227c1-f5b5-4793-9bd3-fd449e360195\",\"type\":\"LassoSelectTool\"},{\"id\":\"e9767085-e227-4146-9fb5-357f546cbab3\",\"type\":\"HelpTool\"}],\"x_range\":{\"id\":\"bfee4171-8c23-42ae-a5b9-83a96a0196cb\",\"type\":\"DataRange1d\"},\"y_range\":{\"id\":\"ca833cf8-ac1c-4dd8-a29a-214b972e5c5d\",\"type\":\"DataRange1d\"}},\"id\":\"347f1aea-15fb-41bd-8243-ac456fa99b7f\",\"subtype\":\"Figure\",\"type\":\"Plot\"},{\"attributes\":{\"days\":[1,4,7,10,13,16,19,22,25,28]},\"id\":\"27c56284-696b-4645-a102-27b5989bf801\",\"type\":\"DaysTicker\"},{\"attributes\":{\"months\":[0,6]},\"id\":\"397087f2-6832-497c-af7c-4a597fb2839f\",\"type\":\"MonthsTicker\"},{\"attributes\":{\"days\":[1,2,3,4,5,6,7,8,9,10,11,12,13,14,15,16,17,18,19,20,21,22,23,24,25,26,27,28,29,30,31]},\"id\":\"e9d49a2d-7300-4b91-a0d2-47605333a762\",\"type\":\"DaysTicker\"},{\"attributes\":{\"formatter\":{\"id\":\"69c974c1-7c0e-4934-8d0f-c0721589c07d\",\"type\":\"BasicTickFormatter\"},\"plot\":{\"id\":\"630d1677-468e-4c0c-9095-5391bf584fbe\",\"subtype\":\"Figure\",\"type\":\"Plot\"},\"ticker\":{\"id\":\"4169a5e2-6aeb-4d6a-a943-346cac8cb8e8\",\"type\":\"BasicTicker\"}},\"id\":\"356536f4-8763-4641-87fc-b79f349ff6f2\",\"type\":\"LinearAxis\"},{\"attributes\":{\"days\":[1,2,3,4,5,6,7,8,9,10,11,12,13,14,15,16,17,18,19,20,21,22,23,24,25,26,27,28,29,30,31]},\"id\":\"9d70a480-d906-48f0-a41f-78ae3a5c5ee1\",\"type\":\"DaysTicker\"},{\"attributes\":{\"base\":60,\"mantissas\":[1,2,5,10,15,20,30],\"max_interval\":1800000.0,\"min_interval\":1000.0,\"num_minor_ticks\":0},\"id\":\"6cff7944-a98b-4f2c-a04d-966a81ea2dce\",\"type\":\"AdaptiveTicker\"},{\"attributes\":{\"num_minor_ticks\":5},\"id\":\"075b7e1e-5ee2-4a6f-a51e-18642126304d\",\"type\":\"DatetimeTicker\"},{\"attributes\":{\"days\":[1,15]},\"id\":\"53d5bec2-5326-4012-857e-97d94b7722d2\",\"type\":\"DaysTicker\"},{\"attributes\":{\"data_source\":{\"id\":\"d1734108-ba93-4f54-8900-e8dbf6139fe5\",\"type\":\"ColumnDataSource\"},\"glyph\":{\"id\":\"a26a36c7-2a66-4d04-ae3e-38eecfc6e0cb\",\"type\":\"Circle\"},\"hover_glyph\":null,\"nonselection_glyph\":{\"id\":\"ae5e60a3-b8ba-441e-8af1-506c6ac88c99\",\"type\":\"Circle\"},\"selection_glyph\":null},\"id\":\"8c19b1a6-c29d-40ee-87ce-699c4f9fcd10\",\"type\":\"GlyphRenderer\"},{\"attributes\":{\"data_source\":{\"id\":\"ba77ade1-7704-4520-9e23-2287eb5249df\",\"type\":\"ColumnDataSource\"},\"glyph\":{\"id\":\"3103020b-5a4e-4bed-a360-a682b87bf1df\",\"type\":\"Circle\"},\"hover_glyph\":null,\"nonselection_glyph\":{\"id\":\"f391f2fd-6805-42fe-a698-4f51cbc60a76\",\"type\":\"Circle\"},\"selection_glyph\":null},\"id\":\"e02ca6f5-0ee3-4768-813b-07e81382752a\",\"type\":\"GlyphRenderer\"},{\"attributes\":{},\"id\":\"ebe1f9b0-7699-40d4-91aa-9b1a976f4ea7\",\"type\":\"DatetimeTickFormatter\"},{\"attributes\":{\"max_interval\":500.0,\"num_minor_ticks\":0},\"id\":\"e7380005-4e7e-4f79-b13d-eef25f241d5f\",\"type\":\"AdaptiveTicker\"},{\"attributes\":{\"months\":[0,6]},\"id\":\"70dd03ca-b093-417a-b73b-331175e7cb8a\",\"type\":\"MonthsTicker\"},{\"attributes\":{\"max_interval\":500.0,\"num_minor_ticks\":0},\"id\":\"18ed8b51-176a-48fc-a8dc-a1020de43350\",\"type\":\"AdaptiveTicker\"},{\"attributes\":{\"callback\":null},\"id\":\"ce2def6e-7bd9-4fd0-a18d-65cddff4c319\",\"type\":\"DataRange1d\"},{\"attributes\":{\"fill_alpha\":{\"value\":0.1},\"fill_color\":{\"value\":\"#1f77b4\"},\"line_alpha\":{\"value\":0.1},\"line_color\":{\"value\":\"#1f77b4\"},\"x\":{\"field\":\"x\"},\"y\":{\"field\":\"y\"}},\"id\":\"ae5e60a3-b8ba-441e-8af1-506c6ac88c99\",\"type\":\"Circle\"},{\"attributes\":{\"fill_color\":{\"value\":\"#1f77b4\"},\"line_color\":{\"value\":\"#1f77b4\"},\"x\":{\"field\":\"x\"},\"y\":{\"field\":\"y\"}},\"id\":\"3103020b-5a4e-4bed-a360-a682b87bf1df\",\"type\":\"Circle\"},{\"attributes\":{\"plot\":{\"id\":\"630d1677-468e-4c0c-9095-5391bf584fbe\",\"subtype\":\"Figure\",\"type\":\"Plot\"},\"ticker\":{\"id\":\"c9fc43af-ce31-4562-9a49-6a3a9d9d8ea3\",\"type\":\"DatetimeTicker\"}},\"id\":\"5627ef0a-3cb0-4480-ba3c-d4e09b9ac522\",\"type\":\"Grid\"},{\"attributes\":{},\"id\":\"87712d9a-acad-469a-b88f-5f833e37c326\",\"type\":\"YearsTicker\"},{\"attributes\":{\"num_minor_ticks\":5},\"id\":\"c9fc43af-ce31-4562-9a49-6a3a9d9d8ea3\",\"type\":\"DatetimeTicker\"},{\"attributes\":{\"args\":{\"s2\":{\"id\":\"d1734108-ba93-4f54-8900-e8dbf6139fe5\",\"type\":\"ColumnDataSource\"}},\"code\":\"\\n            var inds = cb_obj.changed.selected['1d'].indices;\\n            var d1 = cb_obj.attributes.data;\\n            var d2 = s2.attributes.data;\\n            d2['x'] = [];\\n            d2['y'] = [];\\n            for (i = 0; i < inds.length; i++) {\\n                d2['x'].push(d1['x'][inds[i]]);\\n                d2['y'].push(d1['y'][inds[i]]);\\n            }\\n            console.log(d2);\\n            var kernel = IPython.notebook.kernel;\\n            IPython.notebook.kernel.execute(\\\"inds = \\\" + inds);\\n            s2.trigger('change');\\n        \"},\"id\":\"df01759c-8361-492d-b917-253cedcf107d\",\"type\":\"CustomJS\"},{\"attributes\":{},\"id\":\"69c974c1-7c0e-4934-8d0f-c0721589c07d\",\"type\":\"BasicTickFormatter\"},{\"attributes\":{\"fill_alpha\":{\"value\":0.1},\"fill_color\":{\"value\":\"#1f77b4\"},\"line_alpha\":{\"value\":0.1},\"line_color\":{\"value\":\"#1f77b4\"},\"x\":{\"field\":\"x\"},\"y\":{\"field\":\"y\"}},\"id\":\"f391f2fd-6805-42fe-a698-4f51cbc60a76\",\"type\":\"Circle\"},{\"attributes\":{\"days\":[1,8,15,22]},\"id\":\"98f5e6fe-19ca-4b73-a98d-829cdfa46f56\",\"type\":\"DaysTicker\"},{\"attributes\":{\"months\":[0,4,8]},\"id\":\"0f78148a-bb60-4c16-a6b7-a44cd8037962\",\"type\":\"MonthsTicker\"},{\"attributes\":{\"overlay\":{\"id\":\"b7fc7b8c-fc48-4e11-9f8c-8703cd7434cd\",\"type\":\"PolyAnnotation\"},\"plot\":{\"id\":\"347f1aea-15fb-41bd-8243-ac456fa99b7f\",\"subtype\":\"Figure\",\"type\":\"Plot\"}},\"id\":\"74f227c1-f5b5-4793-9bd3-fd449e360195\",\"type\":\"LassoSelectTool\"},{\"attributes\":{\"dimension\":1,\"plot\":{\"id\":\"630d1677-468e-4c0c-9095-5391bf584fbe\",\"subtype\":\"Figure\",\"type\":\"Plot\"},\"ticker\":{\"id\":\"4169a5e2-6aeb-4d6a-a943-346cac8cb8e8\",\"type\":\"BasicTicker\"}},\"id\":\"adc975cb-0612-4ebd-b57e-4ccbd8143efb\",\"type\":\"Grid\"},{\"attributes\":{\"dimension\":1,\"plot\":{\"id\":\"347f1aea-15fb-41bd-8243-ac456fa99b7f\",\"subtype\":\"Figure\",\"type\":\"Plot\"},\"ticker\":{\"id\":\"465e5b90-e06c-4a82-88db-8d030a6042e3\",\"type\":\"BasicTicker\"}},\"id\":\"057d167b-620e-4f74-b5b4-af5f5fcfd7e1\",\"type\":\"Grid\"},{\"attributes\":{\"bottom_units\":\"screen\",\"fill_alpha\":{\"value\":0.5},\"fill_color\":{\"value\":\"lightgrey\"},\"left_units\":\"screen\",\"level\":\"overlay\",\"line_alpha\":{\"value\":1.0},\"line_color\":{\"value\":\"black\"},\"line_dash\":[4,4],\"line_width\":{\"value\":2},\"plot\":null,\"render_mode\":\"css\",\"right_units\":\"screen\",\"top_units\":\"screen\"},\"id\":\"06c501f6-a0ad-4385-8c1e-0014fe6acab0\",\"type\":\"BoxAnnotation\"},{\"attributes\":{\"fill_alpha\":{\"value\":0.5},\"fill_color\":{\"value\":\"lightgrey\"},\"level\":\"overlay\",\"line_alpha\":{\"value\":1.0},\"line_color\":{\"value\":\"black\"},\"line_dash\":[4,4],\"line_width\":{\"value\":2},\"plot\":null,\"xs_units\":\"screen\",\"ys_units\":\"screen\"},\"id\":\"b7fc7b8c-fc48-4e11-9f8c-8703cd7434cd\",\"type\":\"PolyAnnotation\"},{\"attributes\":{\"base\":24,\"mantissas\":[1,2,4,6,8,12],\"max_interval\":43200000.0,\"min_interval\":3600000.0,\"num_minor_ticks\":0},\"id\":\"117a6492-f09a-4a65-ace5-f66aec89eae8\",\"type\":\"AdaptiveTicker\"},{\"attributes\":{\"fill_alpha\":{\"value\":0.6},\"fill_color\":{\"value\":\"#1f77b4\"},\"line_alpha\":{\"value\":0.6},\"line_color\":{\"value\":\"#1f77b4\"},\"x\":{\"field\":\"x\"},\"y\":{\"field\":\"y\"}},\"id\":\"a26a36c7-2a66-4d04-ae3e-38eecfc6e0cb\",\"type\":\"Circle\"},{\"attributes\":{\"months\":[0,4,8]},\"id\":\"5b734e07-8d56-4bb5-b83a-5a0eae2d0014\",\"type\":\"MonthsTicker\"},{\"attributes\":{\"days\":[1,4,7,10,13,16,19,22,25,28]},\"id\":\"6be84f6d-4b53-41d0-83e5-5f750f6ed423\",\"type\":\"DaysTicker\"},{\"attributes\":{},\"id\":\"f906a1a2-868f-4ca0-8c49-7990a2f5b9b4\",\"type\":\"ToolEvents\"},{\"attributes\":{},\"id\":\"0949202d-aa05-41cc-8576-f3d715f5bf5b\",\"type\":\"ToolEvents\"},{\"attributes\":{},\"id\":\"465e5b90-e06c-4a82-88db-8d030a6042e3\",\"type\":\"BasicTicker\"},{\"attributes\":{\"formatter\":{\"id\":\"ebe1f9b0-7699-40d4-91aa-9b1a976f4ea7\",\"type\":\"DatetimeTickFormatter\"},\"plot\":{\"id\":\"347f1aea-15fb-41bd-8243-ac456fa99b7f\",\"subtype\":\"Figure\",\"type\":\"Plot\"},\"ticker\":{\"id\":\"075b7e1e-5ee2-4a6f-a51e-18642126304d\",\"type\":\"DatetimeTicker\"}},\"id\":\"85dace8d-fdea-400b-9698-a0c6c3884030\",\"type\":\"DatetimeAxis\"},{\"attributes\":{\"formatter\":{\"id\":\"bb6694b4-eda6-4ac7-9250-a9b9bf9d81c7\",\"type\":\"DatetimeTickFormatter\"},\"plot\":{\"id\":\"630d1677-468e-4c0c-9095-5391bf584fbe\",\"subtype\":\"Figure\",\"type\":\"Plot\"},\"ticker\":{\"id\":\"c9fc43af-ce31-4562-9a49-6a3a9d9d8ea3\",\"type\":\"DatetimeTicker\"}},\"id\":\"1b369183-8522-49f0-89b1-ab9f42bffb8a\",\"type\":\"DatetimeAxis\"}],\"root_ids\":[\"77eb50f7-7f89-4884-81ac-e6f213d2cef7\"]},\"title\":\"Bokeh Application\",\"version\":\"0.11.1\"}};\n",
       "            var render_items = [{\"docid\":\"93202a7c-bc27-4dbc-91bf-05e6cf8aac25\",\"elementid\":\"92454f93-bb59-40a5-96b4-70e3d8d5356b\",\"modelid\":\"77eb50f7-7f89-4884-81ac-e6f213d2cef7\",\"notebook_comms_target\":\"774ce98b-84b9-4a81-8692-6a137f1fb451\"}];\n",
       "            \n",
       "            Bokeh.embed.embed_items(docs_json, render_items);\n",
       "        });\n",
       "      },\n",
       "      function(Bokeh) {\n",
       "      }\n",
       "    ];\n",
       "  \n",
       "    function run_inline_js() {\n",
       "      for (var i = 0; i < inline_js.length; i++) {\n",
       "        inline_js[i](window.Bokeh);\n",
       "      }\n",
       "    }\n",
       "  \n",
       "    if (window._bokeh_is_loading === 0) {\n",
       "      console.log(\"Bokeh: BokehJS loaded, going straight to plotting\");\n",
       "      run_inline_js();\n",
       "    } else {\n",
       "      load_libs(js_urls, function() {\n",
       "        console.log(\"Bokeh: BokehJS plotting callback run at\", now());\n",
       "        run_inline_js();\n",
       "      });\n",
       "    }\n",
       "  }(this));\n",
       "</script>"
      ]
     },
     "metadata": {},
     "output_type": "display_data"
    },
    {
     "data": {
      "text/html": [
       "<p><code>&lt;Bokeh Notebook handle for <strong>In[7]</strong>&gt;</code></p>"
      ],
      "text/plain": [
       "<bokeh.io._CommsHandle at 0x7f9c438eb390>"
      ]
     },
     "execution_count": 7,
     "metadata": {},
     "output_type": "execute_result"
    }
   ],
   "source": [
    "s1 = ColumnDataSource(data=data)\n",
    "plot = ui_utils.selectPlot(s1,selectedResult)\n",
    "output_notebook()\n",
    "show(plot)"
   ]
  },
  {
   "cell_type": "markdown",
   "metadata": {},
   "source": [
    "11) The code below prints out the selected data points. This can be used for diagnostic purposes and is commented out here. "
   ]
  },
  {
   "cell_type": "code",
   "execution_count": null,
   "metadata": {
    "collapsed": false
   },
   "outputs": [],
   "source": [
    "# data = zip([s1.data['x'][i] for i in inds],\n",
    "#    [s1.data['y'][i] for i in inds],\n",
    "#          [s1.data['z'][i] for i in inds])\n",
    "# print(data)"
   ]
  },
  {
   "cell_type": "markdown",
   "metadata": {},
   "source": [
    "12) Next we prompt a user to enter an annotation and annotation code to prompt the user for. "
   ]
  },
  {
   "cell_type": "code",
   "execution_count": 8,
   "metadata": {
    "collapsed": false
   },
   "outputs": [],
   "source": [
    "\n",
    "annotationcontainer = ui_utils.annotationContainer()\n",
    "annotationcontainer"
   ]
  },
  {
   "cell_type": "markdown",
   "metadata": {},
   "source": [
    "13) Using the below drop down list select the data quality code for these records. "
   ]
  },
  {
   "cell_type": "code",
   "execution_count": 21,
   "metadata": {
    "collapsed": false
   },
   "outputs": [
    {
     "name": "stdout",
     "output_type": "stream",
     "text": [
      "Good\n"
     ]
    }
   ],
   "source": [
    "\n",
    "dataqualityWidget, qdwidget =ui_utils.dataqualityWidget(DBSession)\n",
    "display(qdwidget)"
   ]
  },
  {
   "cell_type": "markdown",
   "metadata": {},
   "source": [
    "14) This creates the actual annotation database record and the associated result value annotations. This links each result value to the annotation.  "
   ]
  },
  {
   "cell_type": "code",
   "execution_count": 25,
   "metadata": {
    "collapsed": false
   },
   "outputs": [
    {
     "name": "stdout",
     "output_type": "stream",
     "text": [
      "Time series result value annotation\n",
      "Miguel\n",
      "Lithological Influences on Contemporary and Long-Term Regolith Weathering at the Luquillo Critical Zone Observatory\n",
      "\n",
      "Buss, H.L., Lara Chapela M., Moore, O.W., Kurtz A.C., Schulz, M.S., White A.F.\n",
      "<odm2api.ODM2.models.Annotations object at 0x7f705d68b410>\n",
      "<odm2api.ODM2.models.Annotations object at 0x7f705d68b410>\n"
     ]
    }
   ],
   "source": [
    "annotation_type =  DBSession.query(CVAnnotationType).filter_by(Name=\"Time series result value annotation\").one() \n",
    "author =  DBSession.query(People).filter_by(PersonFirstName=\"Miguel\").one()\n",
    "citation =  DBSession.query(Citations).filter_by(CitationID=327).one() \n",
    "print(annotation_type.Name)\n",
    "print(author.PersonFirstName)\n",
    "print(citation.Title)\n",
    "tsrvavalueids = []\n",
    "annotation = Annotations(AnnotationTypeCV=annotation_type.Name,\n",
    "                           AnnotationCode = annotationcontainer.children[0].value,\n",
    "                           AnnotationText = annotationcontainer.children[1].value,\n",
    "                           AnnotationDateTime = datetime.datetime.now(),\n",
    "                           AnnotationUTCOffset = 0,\n",
    "                           AnnotationLink = 'test',\n",
    "                           AnnotatorID = 1,\n",
    "                           CitationID =327)\n",
    "print(annotation)\n",
    "DBSession.add(annotation)\n",
    "DBSession.commit()\n",
    "annotationid = annotation.AnnotationID\n",
    "print(annotation)\n",
    "for i in inds:\n",
    "    valueid = s1.data['z'][i]\n",
    "    tsrvAnnotation = TimeSeriesResultValueAnnotations(ValueID = valueid,\n",
    "                                                     AnnotationID =annotationid)\n",
    "    DBSession.add(tsrvAnnotation)\n",
    "    DBSession.commit()\n",
    "    tsrvavalueids.append(tsrvAnnotation.BridgeID)\n",
    "for i in inds:\n",
    "    valueid = s1.data['z'][i]\n",
    "    tsrv = DBSession.query(TimeSeriesResultValues).filter_by(ValueID=valueid).one()\n",
    "    tsrv.QualityCodeCV = dataquality_codeWidget.value\n",
    "DBSession.commit()    "
   ]
  },
  {
   "cell_type": "markdown",
   "metadata": {},
   "source": [
    "<p> 1) This will last block of code will delete the values back out of the database. </p>"
   ]
  },
  {
   "cell_type": "code",
   "execution_count": 23,
   "metadata": {
    "collapsed": true
   },
   "outputs": [],
   "source": [
    "\n",
    "#print(tsrvavalueids)\n",
    "time_series_values_annotations = DBSession.query(TimeSeriesResultValueAnnotations).filter(\n",
    "        TimeSeriesResultValueAnnotations.BridgeID.in_(tsrvavalueids))\n",
    "for time_series_value_annotation in time_series_values_annotations:\n",
    "    DBSession.delete(time_series_value_annotation)\n",
    "DBSession.commit()\n",
    "\n",
    "DBSession.delete(annotation)\n",
    "DBSession.commit()"
   ]
  },
  {
   "cell_type": "code",
   "execution_count": 16,
   "metadata": {
    "collapsed": true
   },
   "outputs": [],
   "source": []
  },
  {
   "cell_type": "code",
   "execution_count": null,
   "metadata": {
    "collapsed": true
   },
   "outputs": [],
   "source": []
  }
 ],
 "metadata": {
  "kernelspec": {
   "display_name": "Python 2",
   "language": "python",
   "name": "python2"
  },
  "language_info": {
   "codemirror_mode": {
    "name": "ipython",
    "version": 2
   },
   "file_extension": ".py",
   "mimetype": "text/x-python",
   "name": "python",
   "nbconvert_exporter": "python",
   "pygments_lexer": "ipython2",
   "version": "2.7.12"
  },
  "widgets": {
   "state": {
    "0d72178ebe9942a3ab69dbc07b68781d": {
     "views": [
      {
       "cell_index": 11
      }
     ]
    },
    "32609f9c125f4538876620431eced46b": {
     "views": [
      {
       "cell_index": 3
      }
     ]
    },
    "4063b97bec274fcfac286798c8355559": {
     "views": [
      {
       "cell_index": 13
      }
     ]
    },
    "92e1d007a2ff4fa0a5acb6157c99ca52": {
     "views": [
      {
       "cell_index": 12
      }
     ]
    },
    "98dd7fc76a6c4c75afe1c67d1fc0707c": {
     "views": [
      {
       "cell_index": 21
      }
     ]
    },
    "d60b5f600a1f4938b1d13532c2280a17": {
     "views": [
      {
       "cell_index": 9
      }
     ]
    }
   },
   "version": "1.2.0"
  }
 },
 "nbformat": 4,
 "nbformat_minor": 2
}
