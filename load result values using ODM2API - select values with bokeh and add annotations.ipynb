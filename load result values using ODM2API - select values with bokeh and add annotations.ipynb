{
 "cells": [
  {
   "cell_type": "markdown",
   "metadata": {},
   "source": [
    "<p>1) Load all of the needed python packages to run this notebook. These include ODM2API, ipython widgets for user interaction, bokeh for interactive plots. ui_utils </p>\n"
   ]
  },
  {
   "cell_type": "code",
   "execution_count": 1,
   "metadata": {
    "collapsed": false
   },
   "outputs": [],
   "source": [
    "import sys\n",
    "import os\n",
    "import datetime\n",
    "import getpass\n",
    "import utilities.ui_utils as ui_utils\n",
    "from bokeh.plotting import  figure, show\n",
    "from IPython.core.display import HTML\n",
    "from ipywidgets import Layout, HBox\n",
    "from IPython.display import display\n",
    "from odm2api.ODMconnection import dbconnection\n",
    "import odm2api.ODM2.services.readService as odm2\n",
    "from odm2api.ODM2.models import *\n",
    "from bokeh.io import output_notebook\n",
    "from bokeh.models import ColumnDataSource"
   ]
  },
  {
   "cell_type": "markdown",
   "metadata": {},
   "source": [
    "2) The code below retreives the ODM2 login prompt from ui_utils python code which should be in your utilities folder. This will log directly into SQL.  "
   ]
  },
  {
   "cell_type": "code",
   "execution_count": 6,
   "metadata": {
    "collapsed": false
   },
   "outputs": [],
   "source": [
    "\n",
    "#print(\"Enter your ODM2 username\") \n",
    "container = ui_utils.ODM2LoginPrompt()\n",
    "container"
   ]
  },
  {
   "cell_type": "markdown",
   "metadata": {},
   "source": [
    "3) Next we prompt a user for their password. "
   ]
  },
  {
   "cell_type": "code",
   "execution_count": 3,
   "metadata": {
    "collapsed": false
   },
   "outputs": [
    {
     "name": "stdout",
     "output_type": "stream",
     "text": [
      "enter your password: \n",
      "········\n"
     ]
    }
   ],
   "source": [
    "print(\"enter your password: \")\n",
    "p = getpass.getpass()"
   ]
  },
  {
   "cell_type": "markdown",
   "metadata": {},
   "source": [
    "<p> 4) Here we look into the login prompt container. to retrieve the database connection information entered by the user. </p>\n",
    "<p> 5) On the second line, I'm using the ODM2API read service for retrieving result values this should help make retrieving \n",
    "them agnostic to the result type. </p>  "
   ]
  },
  {
   "cell_type": "code",
   "execution_count": 2,
   "metadata": {
    "collapsed": false
   },
   "outputs": [],
   "source": [
    "session_factory = dbconnection.createConnection('postgresql', container.children[1].value, \n",
    "                                                container.children[2].value, \n",
    "                                                container.children[0].value, p) \n",
    "\n",
    "read = odm2.ReadODM2(session_factory)\n",
    "DBSession = session_factory.getSession()"
   ]
  },
  {
   "cell_type": "markdown",
   "metadata": {},
   "source": [
    "6) Next we retreive another UI element for selecting observation actions. Which we will use to filter results. Otherwise the list of results maybe too long. "
   ]
  },
  {
   "cell_type": "markdown",
   "metadata": {},
   "source": [
    "7) Now we get a UI element for results, for which we would like to display values. "
   ]
  },
  {
   "cell_type": "code",
   "execution_count": 3,
   "metadata": {
    "collapsed": false
   },
   "outputs": [
    {
     "name": "stdout",
     "output_type": "stream",
     "text": [
      "34\n"
     ]
    }
   ],
   "source": [
    "HTML('<style>select, option, dropdown-menu, li, a { width: 50%; !important;}</style>')\n",
    "actionWidget, awidget = ui_utils.actionWidgetNotPulse(DBSession)\n",
    "#box = HBox([awidget])\n",
    "#box.layout.display = 'flex'\n",
    "#box.layout.align_items = 'stretch'\n",
    "display(awidget) \n"
   ]
  },
  {
   "cell_type": "code",
   "execution_count": 7,
   "metadata": {
    "collapsed": false
   },
   "outputs": [
    {
     "name": "stdout",
     "output_type": "stream",
     "text": [
      "16647\n"
     ]
    }
   ],
   "source": [
    "\n",
    "#featureaction = 1700\n",
    "actionid = actionWidget.value\n",
    "print(actionid)\n",
    "resultWidget, rwidget = ui_utils.resultWidget(read, actionid)\n",
    "display(rwidget)"
   ]
  },
  {
   "cell_type": "markdown",
   "metadata": {},
   "source": [
    "8) Now we create a UI element for entering the dates we would like to filter the time series on. "
   ]
  },
  {
   "cell_type": "code",
   "execution_count": 8,
   "metadata": {
    "collapsed": false
   },
   "outputs": [],
   "source": [
    "startdate_enddate_container = ui_utils.startDateEndDateContainer()\n",
    "startdate_enddate_container"
   ]
  },
  {
   "cell_type": "markdown",
   "metadata": {},
   "source": [
    "9) Next we read more information about the result, pull the results values for the time frame we specified and create a data dictionary our selection graph can display. "
   ]
  },
  {
   "cell_type": "markdown",
   "metadata": {
    "collapsed": false
   },
   "source": [
    "10) Now we create a bokeh (graphing package) ColumnDataSource for our graph, create our plot (also using ui_utils) and display it. "
   ]
  },
  {
   "cell_type": "code",
   "execution_count": 13,
   "metadata": {
    "collapsed": false
   },
   "outputs": [],
   "source": [
    "selectedResult = read.getDetailedResultInfo(resultTypeCV = 'Time series coverage',resultID=resultWidget.value)\n",
    "#resultValues = read.getResultValues(resultid=resultWidget.value, starttime='2016-8-1', \n",
    "#                                                 endtime= '2016-8-30')\n",
    "resultValues = read.getResultValues(resultid=resultWidget.value, starttime=startdate_enddate_container.children[0].value, \n",
    "                                                 endtime= startdate_enddate_container.children[1].value)\n",
    "#print(startdate_enddate_container.children[0].value)\n",
    "#print(startdate_enddate_container.children[1].value)\n",
    "data = dict(x=resultValues.ValueDateTime, y= resultValues.DataValue, z=resultValues.ValueID)\n",
    "#print(data)"
   ]
  },
  {
   "cell_type": "code",
   "execution_count": 14,
   "metadata": {
    "collapsed": false,
    "scrolled": false
   },
   "outputs": [
    {
     "data": {
      "text/html": [
       "\n",
       "    <div class=\"bk-banner\">\n",
       "        <a href=\"http://bokeh.pydata.org\" target=\"_blank\" class=\"bk-logo bk-logo-small bk-logo-notebook\"></a>\n",
       "        <span id=\"91d49101-6d6f-4c12-ba0f-4970800d08c1\">Loading BokehJS ...</span>\n",
       "    </div>"
      ]
     },
     "metadata": {},
     "output_type": "display_data"
    },
    {
     "data": {
      "application/javascript": [
       "\n",
       "(function(global) {\n",
       "  function now() {\n",
       "    return new Date();\n",
       "  }\n",
       "\n",
       "  if (typeof (window._bokeh_onload_callbacks) === \"undefined\") {\n",
       "    window._bokeh_onload_callbacks = [];\n",
       "  }\n",
       "\n",
       "  function run_callbacks() {\n",
       "    window._bokeh_onload_callbacks.forEach(function(callback) { callback() });\n",
       "    delete window._bokeh_onload_callbacks\n",
       "    console.info(\"Bokeh: all callbacks have finished\");\n",
       "  }\n",
       "\n",
       "  function load_libs(js_urls, callback) {\n",
       "    window._bokeh_onload_callbacks.push(callback);\n",
       "    if (window._bokeh_is_loading > 0) {\n",
       "      console.log(\"Bokeh: BokehJS is being loaded, scheduling callback at\", now());\n",
       "      return null;\n",
       "    }\n",
       "    if (js_urls == null || js_urls.length === 0) {\n",
       "      run_callbacks();\n",
       "      return null;\n",
       "    }\n",
       "    console.log(\"Bokeh: BokehJS not loaded, scheduling load and callback at\", now());\n",
       "    window._bokeh_is_loading = js_urls.length;\n",
       "    for (var i = 0; i < js_urls.length; i++) {\n",
       "      var url = js_urls[i];\n",
       "      var s = document.createElement('script');\n",
       "      s.src = url;\n",
       "      s.async = false;\n",
       "      s.onreadystatechange = s.onload = function() {\n",
       "        window._bokeh_is_loading--;\n",
       "        if (window._bokeh_is_loading === 0) {\n",
       "          console.log(\"Bokeh: all BokehJS libraries loaded\");\n",
       "          run_callbacks()\n",
       "        }\n",
       "      };\n",
       "      s.onerror = function() {\n",
       "        console.warn(\"failed to load library \" + url);\n",
       "      };\n",
       "      console.log(\"Bokeh: injecting script tag for BokehJS library: \", url);\n",
       "      document.getElementsByTagName(\"head\")[0].appendChild(s);\n",
       "    }\n",
       "  };\n",
       "\n",
       "  var js_urls = ['https://cdn.pydata.org/bokeh/release/bokeh-0.11.1.min.js', 'https://cdn.pydata.org/bokeh/release/bokeh-widgets-0.11.1.min.js', 'https://cdn.pydata.org/bokeh/release/bokeh-compiler-0.11.1.min.js'];\n",
       "\n",
       "  var inline_js = [\n",
       "    function(Bokeh) {\n",
       "      Bokeh.set_log_level(\"info\");\n",
       "    },\n",
       "    \n",
       "    function(Bokeh) {\n",
       "      Bokeh.$(\"#91d49101-6d6f-4c12-ba0f-4970800d08c1\").text(\"BokehJS successfully loaded\");\n",
       "    },\n",
       "    function(Bokeh) {\n",
       "      console.log(\"Bokeh: injecting CSS: https://cdn.pydata.org/bokeh/release/bokeh-0.11.1.min.css\");\n",
       "      Bokeh.embed.inject_css(\"https://cdn.pydata.org/bokeh/release/bokeh-0.11.1.min.css\");\n",
       "      console.log(\"Bokeh: injecting CSS: https://cdn.pydata.org/bokeh/release/bokeh-widgets-0.11.1.min.css\");\n",
       "      Bokeh.embed.inject_css(\"https://cdn.pydata.org/bokeh/release/bokeh-widgets-0.11.1.min.css\");\n",
       "    }\n",
       "  ];\n",
       "\n",
       "  function run_inline_js() {\n",
       "    for (var i = 0; i < inline_js.length; i++) {\n",
       "      inline_js[i](window.Bokeh);\n",
       "    }\n",
       "  }\n",
       "\n",
       "  if (window._bokeh_is_loading === 0) {\n",
       "    console.log(\"Bokeh: BokehJS loaded, going straight to plotting\");\n",
       "    run_inline_js();\n",
       "  } else {\n",
       "    load_libs(js_urls, function() {\n",
       "      console.log(\"Bokeh: BokehJS plotting callback run at\", now());\n",
       "      run_inline_js();\n",
       "    });\n",
       "  }\n",
       "}(this));"
      ]
     },
     "metadata": {},
     "output_type": "display_data"
    },
    {
     "data": {
      "text/html": [
       "\n",
       "\n",
       "    <div class=\"plotdiv\" id=\"79247d3d-9846-40e0-8193-537a5e7ec3be\"></div>\n",
       "<script type=\"text/javascript\">\n",
       "  \n",
       "  (function(global) {\n",
       "    function now() {\n",
       "      return new Date();\n",
       "    }\n",
       "  \n",
       "    if (typeof (window._bokeh_onload_callbacks) === \"undefined\") {\n",
       "      window._bokeh_onload_callbacks = [];\n",
       "    }\n",
       "  \n",
       "    function run_callbacks() {\n",
       "      window._bokeh_onload_callbacks.forEach(function(callback) { callback() });\n",
       "      delete window._bokeh_onload_callbacks\n",
       "      console.info(\"Bokeh: all callbacks have finished\");\n",
       "    }\n",
       "  \n",
       "    function load_libs(js_urls, callback) {\n",
       "      window._bokeh_onload_callbacks.push(callback);\n",
       "      if (window._bokeh_is_loading > 0) {\n",
       "        console.log(\"Bokeh: BokehJS is being loaded, scheduling callback at\", now());\n",
       "        return null;\n",
       "      }\n",
       "      if (js_urls == null || js_urls.length === 0) {\n",
       "        run_callbacks();\n",
       "        return null;\n",
       "      }\n",
       "      console.log(\"Bokeh: BokehJS not loaded, scheduling load and callback at\", now());\n",
       "      window._bokeh_is_loading = js_urls.length;\n",
       "      for (var i = 0; i < js_urls.length; i++) {\n",
       "        var url = js_urls[i];\n",
       "        var s = document.createElement('script');\n",
       "        s.src = url;\n",
       "        s.async = false;\n",
       "        s.onreadystatechange = s.onload = function() {\n",
       "          window._bokeh_is_loading--;\n",
       "          if (window._bokeh_is_loading === 0) {\n",
       "            console.log(\"Bokeh: all BokehJS libraries loaded\");\n",
       "            run_callbacks()\n",
       "          }\n",
       "        };\n",
       "        s.onerror = function() {\n",
       "          console.warn(\"failed to load library \" + url);\n",
       "        };\n",
       "        console.log(\"Bokeh: injecting script tag for BokehJS library: \", url);\n",
       "        document.getElementsByTagName(\"head\")[0].appendChild(s);\n",
       "      }\n",
       "    };var element = document.getElementById(\"79247d3d-9846-40e0-8193-537a5e7ec3be\");\n",
       "    if (element == null) {\n",
       "      console.log(\"Bokeh: ERROR: autoload.js configured with elementid '79247d3d-9846-40e0-8193-537a5e7ec3be' but no matching script tag was found. \")\n",
       "      return false;\n",
       "    }\n",
       "  \n",
       "    var js_urls = [];\n",
       "  \n",
       "    var inline_js = [\n",
       "      function(Bokeh) {\n",
       "        Bokeh.$(function() {\n",
       "            var docs_json = {\"6508df03-8da2-42df-b42a-161bfc8d0a8b\":{\"roots\":{\"references\":[{\"attributes\":{\"data_source\":{\"id\":\"31d93758-215a-4281-939a-0c56ec56ada4\",\"type\":\"ColumnDataSource\"},\"glyph\":{\"id\":\"20011996-09b6-4845-915d-95f73d0f6b46\",\"type\":\"Circle\"},\"hover_glyph\":null,\"nonselection_glyph\":{\"id\":\"e247259b-d29d-4f44-aa8d-3b86b2ae2902\",\"type\":\"Circle\"},\"selection_glyph\":null},\"id\":\"fc23e96e-7235-4385-b3d5-19adb2e48686\",\"type\":\"GlyphRenderer\"},{\"attributes\":{\"plot\":{\"id\":\"5228d8f2-9df3-4aff-a529-d7303b7d097c\",\"subtype\":\"Figure\",\"type\":\"Plot\"}},\"id\":\"4d91887c-eb45-4d94-b252-feea18f34890\",\"type\":\"HelpTool\"},{\"attributes\":{\"base\":60,\"mantissas\":[1,2,5,10,15,20,30],\"max_interval\":1800000.0,\"min_interval\":1000.0,\"num_minor_ticks\":0},\"id\":\"cb49f1ee-6e30-44a2-9183-c2b9fe8d8491\",\"type\":\"AdaptiveTicker\"},{\"attributes\":{\"days\":[1,15]},\"id\":\"513882c1-241c-49b6-968f-9c3cd462a625\",\"type\":\"DaysTicker\"},{\"attributes\":{\"dimension\":1,\"plot\":{\"id\":\"6c6c1c3e-54f6-46cf-8935-043c7c74d00b\",\"subtype\":\"Figure\",\"type\":\"Plot\"},\"ticker\":{\"id\":\"06ae1fb8-6d03-43fd-9210-5d4789fd89ff\",\"type\":\"BasicTicker\"}},\"id\":\"e8d0d7a5-a9a5-4a28-be15-81b652d6de4d\",\"type\":\"Grid\"},{\"attributes\":{\"callback\":null,\"column_names\":[\"y\",\"x\"],\"data\":{\"x\":[],\"y\":[]}},\"id\":\"6ff619fb-8621-4564-aec9-9aa1978486bb\",\"type\":\"ColumnDataSource\"},{\"attributes\":{\"months\":[0,6]},\"id\":\"5bcf2e1a-be5d-4807-a70a-017e30b007e3\",\"type\":\"MonthsTicker\"},{\"attributes\":{\"overlay\":{\"id\":\"7c081e1b-e2c9-4e73-874c-f887d262405e\",\"type\":\"PolyAnnotation\"},\"plot\":{\"id\":\"5228d8f2-9df3-4aff-a529-d7303b7d097c\",\"subtype\":\"Figure\",\"type\":\"Plot\"}},\"id\":\"a391048f-672d-4ac2-a561-78543ea54e41\",\"type\":\"LassoSelectTool\"},{\"attributes\":{\"days\":[1,4,7,10,13,16,19,22,25,28]},\"id\":\"9ac38637-371f-4304-9328-d08127402156\",\"type\":\"DaysTicker\"},{\"attributes\":{\"children\":[{\"id\":\"5228d8f2-9df3-4aff-a529-d7303b7d097c\",\"subtype\":\"Figure\",\"type\":\"Plot\"},{\"id\":\"6c6c1c3e-54f6-46cf-8935-043c7c74d00b\",\"subtype\":\"Figure\",\"type\":\"Plot\"}]},\"id\":\"c16ec64b-3336-44e2-aaac-c0a06c3be795\",\"type\":\"HBox\"},{\"attributes\":{\"days\":[1,4,7,10,13,16,19,22,25,28]},\"id\":\"802de862-440f-4592-8208-7561635ea86f\",\"type\":\"DaysTicker\"},{\"attributes\":{\"below\":[{\"id\":\"5a72602d-5f4b-42fb-91c4-c9daba1a404a\",\"type\":\"DatetimeAxis\"}],\"left\":[{\"id\":\"b2a2d776-850a-4ea3-8165-c92dd6d6931c\",\"type\":\"LinearAxis\"}],\"plot_height\":400,\"plot_width\":400,\"renderers\":[{\"id\":\"5a72602d-5f4b-42fb-91c4-c9daba1a404a\",\"type\":\"DatetimeAxis\"},{\"id\":\"b225a9eb-bc04-4db2-8df0-18d49e6785c7\",\"type\":\"Grid\"},{\"id\":\"b2a2d776-850a-4ea3-8165-c92dd6d6931c\",\"type\":\"LinearAxis\"},{\"id\":\"0a846603-8773-49cd-964e-768ab50d9711\",\"type\":\"Grid\"},{\"id\":\"cccf4f00-9d49-487e-a22e-e98e49f524b3\",\"type\":\"BoxAnnotation\"},{\"id\":\"7c081e1b-e2c9-4e73-874c-f887d262405e\",\"type\":\"PolyAnnotation\"},{\"id\":\"11f472db-2a96-47c2-8a40-a3a069387fcd\",\"type\":\"GlyphRenderer\"}],\"title\":\"Abs Pres\",\"tool_events\":{\"id\":\"49a767da-e714-48f9-8be0-2f94dfae4f29\",\"type\":\"ToolEvents\"},\"tools\":[{\"id\":\"a2533a04-bbcc-45b2-8e3a-638ad756cc82\",\"type\":\"BoxSelectTool\"},{\"id\":\"a391048f-672d-4ac2-a561-78543ea54e41\",\"type\":\"LassoSelectTool\"},{\"id\":\"4d91887c-eb45-4d94-b252-feea18f34890\",\"type\":\"HelpTool\"}],\"x_range\":{\"id\":\"128fd3d9-b141-4abb-a6d0-33b637155110\",\"type\":\"DataRange1d\"},\"y_range\":{\"id\":\"7cf7a557-afd4-4d0f-9998-0193886e4e09\",\"type\":\"DataRange1d\"}},\"id\":\"5228d8f2-9df3-4aff-a529-d7303b7d097c\",\"subtype\":\"Figure\",\"type\":\"Plot\"},{\"attributes\":{\"callback\":null},\"id\":\"9694ecef-ba9b-4263-9b3f-029a2f216701\",\"type\":\"DataRange1d\"},{\"attributes\":{\"days\":[1,2,3,4,5,6,7,8,9,10,11,12,13,14,15,16,17,18,19,20,21,22,23,24,25,26,27,28,29,30,31]},\"id\":\"4f51b020-65a4-4eab-9516-f5bed06c577c\",\"type\":\"DaysTicker\"},{\"attributes\":{\"data_source\":{\"id\":\"e1ea6ba7-1208-48b3-957f-8aa2cb1d89c9\",\"type\":\"ColumnDataSource\"},\"glyph\":{\"id\":\"14768c7a-7dc1-4141-a998-d0827edaf28d\",\"type\":\"Circle\"},\"hover_glyph\":null,\"nonselection_glyph\":{\"id\":\"851e94b5-3daf-4262-9490-dfc2c7597768\",\"type\":\"Circle\"},\"selection_glyph\":null},\"id\":\"11f472db-2a96-47c2-8a40-a3a069387fcd\",\"type\":\"GlyphRenderer\"},{\"attributes\":{\"fill_alpha\":{\"value\":0.1},\"fill_color\":{\"value\":\"#1f77b4\"},\"line_alpha\":{\"value\":0.1},\"line_color\":{\"value\":\"#1f77b4\"},\"x\":{\"field\":\"x\"},\"y\":{\"field\":\"y\"}},\"id\":\"e247259b-d29d-4f44-aa8d-3b86b2ae2902\",\"type\":\"Circle\"},{\"attributes\":{\"months\":[0,1,2,3,4,5,6,7,8,9,10,11]},\"id\":\"5b3c1607-2bc6-4d4a-a246-ca44266e2149\",\"type\":\"MonthsTicker\"},{\"attributes\":{\"base\":60,\"mantissas\":[1,2,5,10,15,20,30],\"max_interval\":1800000.0,\"min_interval\":1000.0,\"num_minor_ticks\":0},\"id\":\"3b002f30-8b63-4cc8-9c27-23ee0b3f2e70\",\"type\":\"AdaptiveTicker\"},{\"attributes\":{\"plot\":{\"id\":\"aab7bfa4-1dae-4b79-90d2-ec676d13ba66\",\"subtype\":\"Figure\",\"type\":\"Plot\"}},\"id\":\"a458f5a7-ed55-475a-a559-6a0ec9bcbd19\",\"type\":\"HelpTool\"},{\"attributes\":{\"months\":[0,6]},\"id\":\"5250cbd8-5008-49a2-8773-2912d42cf506\",\"type\":\"MonthsTicker\"},{\"attributes\":{},\"id\":\"93a20ef6-3660-4872-aecb-d2aab3803cc1\",\"type\":\"BasicTicker\"},{\"attributes\":{\"callback\":null},\"id\":\"128fd3d9-b141-4abb-a6d0-33b637155110\",\"type\":\"DataRange1d\"},{\"attributes\":{\"months\":[0,1,2,3,4,5,6,7,8,9,10,11]},\"id\":\"68b6ced8-affb-465b-a76b-f32719fc4254\",\"type\":\"MonthsTicker\"},{\"attributes\":{},\"id\":\"c8de94c3-0d86-4f2c-bc53-042d82321d70\",\"type\":\"YearsTicker\"},{\"attributes\":{\"formatter\":{\"id\":\"ea1741e7-5439-451a-aac1-ea621c70cf0d\",\"type\":\"DatetimeTickFormatter\"},\"plot\":{\"id\":\"5c10cec2-04ce-44ed-acce-5ca2a5907cd4\",\"subtype\":\"Figure\",\"type\":\"Plot\"},\"ticker\":{\"id\":\"80c16973-62d3-4728-a427-1f870810ab54\",\"type\":\"DatetimeTicker\"}},\"id\":\"58647a70-3371-4469-9815-9111a1a67244\",\"type\":\"DatetimeAxis\"},{\"attributes\":{\"fill_alpha\":{\"value\":0.1},\"fill_color\":{\"value\":\"#1f77b4\"},\"line_alpha\":{\"value\":0.1},\"line_color\":{\"value\":\"#1f77b4\"},\"x\":{\"field\":\"x\"},\"y\":{\"field\":\"y\"}},\"id\":\"aa172022-a76d-424f-8b5f-4863614e95be\",\"type\":\"Circle\"},{\"attributes\":{\"days\":[1,15]},\"id\":\"c7d8bbe6-87b3-4e8b-916e-226c883dc39c\",\"type\":\"DaysTicker\"},{\"attributes\":{\"days\":[1,15]},\"id\":\"075774cd-9050-4c78-9f34-d9fa9a237b93\",\"type\":\"DaysTicker\"},{\"attributes\":{\"base\":24,\"mantissas\":[1,2,4,6,8,12],\"max_interval\":43200000.0,\"min_interval\":3600000.0,\"num_minor_ticks\":0},\"id\":\"00cedeb3-aa91-4bcd-af3a-e43758714188\",\"type\":\"AdaptiveTicker\"},{\"attributes\":{\"days\":[1,15]},\"id\":\"4c981401-ca2f-4033-91b1-bbecd1894dfa\",\"type\":\"DaysTicker\"},{\"attributes\":{},\"id\":\"566729a6-31e1-4191-b90d-7f4b0ff8a00f\",\"type\":\"DatetimeTickFormatter\"},{\"attributes\":{\"dimension\":1,\"plot\":{\"id\":\"5c10cec2-04ce-44ed-acce-5ca2a5907cd4\",\"subtype\":\"Figure\",\"type\":\"Plot\"},\"ticker\":{\"id\":\"bb33a0d1-ce8b-4754-ae87-788e9ac46d52\",\"type\":\"BasicTicker\"}},\"id\":\"5dabcf13-0890-4b3c-a41a-08205297fd2c\",\"type\":\"Grid\"},{\"attributes\":{\"args\":{\"s2\":{\"id\":\"31d93758-215a-4281-939a-0c56ec56ada4\",\"type\":\"ColumnDataSource\"}},\"code\":\"\\n            var inds = cb_obj.changed.selected['1d'].indices;\\n            var d1 = cb_obj.attributes.data;\\n            var d2 = s2.attributes.data;\\n            d2['x'] = [];\\n            d2['y'] = [];\\n            for (i = 0; i < inds.length; i++) {\\n                d2['x'].push(d1['x'][inds[i]]);\\n                d2['y'].push(d1['y'][inds[i]]);\\n            }\\n            console.log(d2);\\n            var kernel = IPython.notebook.kernel;\\n            IPython.notebook.kernel.execute(\\\"inds = \\\" + inds);\\n            s2.trigger('change');\\n        \"},\"id\":\"4d358721-ce43-4431-894b-ad584d112756\",\"type\":\"CustomJS\"},{\"attributes\":{\"children\":[{\"id\":\"aab7bfa4-1dae-4b79-90d2-ec676d13ba66\",\"subtype\":\"Figure\",\"type\":\"Plot\"},{\"id\":\"5c10cec2-04ce-44ed-acce-5ca2a5907cd4\",\"subtype\":\"Figure\",\"type\":\"Plot\"}]},\"id\":\"6d838eb0-5601-485b-bb9a-dfb6a5000aee\",\"type\":\"HBox\"},{\"attributes\":{\"callback\":null,\"column_names\":[\"y\",\"x\"],\"data\":{\"x\":[],\"y\":[]}},\"id\":\"31d93758-215a-4281-939a-0c56ec56ada4\",\"type\":\"ColumnDataSource\"},{\"attributes\":{\"months\":[0,4,8]},\"id\":\"926cec76-04ff-4f92-bd76-630d6add41e6\",\"type\":\"MonthsTicker\"},{\"attributes\":{\"dimension\":1,\"plot\":{\"id\":\"5228d8f2-9df3-4aff-a529-d7303b7d097c\",\"subtype\":\"Figure\",\"type\":\"Plot\"},\"ticker\":{\"id\":\"c0c5b003-0214-45c3-9266-76da0e5a4ecb\",\"type\":\"BasicTicker\"}},\"id\":\"0a846603-8773-49cd-964e-768ab50d9711\",\"type\":\"Grid\"},{\"attributes\":{},\"id\":\"ea1741e7-5439-451a-aac1-ea621c70cf0d\",\"type\":\"DatetimeTickFormatter\"},{\"attributes\":{},\"id\":\"311bfb61-78f3-4eda-86aa-35315a28fe34\",\"type\":\"DatetimeTickFormatter\"},{\"attributes\":{\"months\":[0,2,4,6,8,10]},\"id\":\"8b4265a1-46d2-4d90-9cd2-3d104422e1e1\",\"type\":\"MonthsTicker\"},{\"attributes\":{\"formatter\":{\"id\":\"311bfb61-78f3-4eda-86aa-35315a28fe34\",\"type\":\"DatetimeTickFormatter\"},\"plot\":{\"id\":\"5228d8f2-9df3-4aff-a529-d7303b7d097c\",\"subtype\":\"Figure\",\"type\":\"Plot\"},\"ticker\":{\"id\":\"b336d17f-05d9-475c-ae83-eb0aa6f809c4\",\"type\":\"DatetimeTicker\"}},\"id\":\"5a72602d-5f4b-42fb-91c4-c9daba1a404a\",\"type\":\"DatetimeAxis\"},{\"attributes\":{\"args\":{\"s2\":{\"id\":\"6ff619fb-8621-4564-aec9-9aa1978486bb\",\"type\":\"ColumnDataSource\"}},\"code\":\"\\n            var inds = cb_obj.changed.selected['1d'].indices;\\n            var d1 = cb_obj.attributes.data;\\n            var d2 = s2.attributes.data;\\n            d2['x'] = [];\\n            d2['y'] = [];\\n            for (i = 0; i < inds.length; i++) {\\n                d2['x'].push(d1['x'][inds[i]]);\\n                d2['y'].push(d1['y'][inds[i]]);\\n            }\\n            console.log(d2);\\n            var kernel = IPython.notebook.kernel;\\n            IPython.notebook.kernel.execute(\\\"inds = \\\" + inds);\\n            s2.trigger('change');\\n        \"},\"id\":\"6b97bdf2-4b26-4f68-a9e6-adf4c9ab9d2b\",\"type\":\"CustomJS\"},{\"attributes\":{\"callback\":null,\"overlay\":{\"id\":\"2695f621-9330-4b47-89af-7318e0fb22e1\",\"type\":\"BoxAnnotation\"},\"plot\":{\"id\":\"aab7bfa4-1dae-4b79-90d2-ec676d13ba66\",\"subtype\":\"Figure\",\"type\":\"Plot\"},\"renderers\":[{\"id\":\"e96dd233-80c4-40fe-9344-9d225648fa03\",\"type\":\"GlyphRenderer\"}]},\"id\":\"a797d2ea-fc48-4036-88cd-a3ae6be002c9\",\"type\":\"BoxSelectTool\"},{\"attributes\":{},\"id\":\"adf97eda-3089-4666-a4ff-f65769e968e7\",\"type\":\"YearsTicker\"},{\"attributes\":{},\"id\":\"ec72bb36-1338-4673-8d24-cce744578950\",\"type\":\"DatetimeTickFormatter\"},{\"attributes\":{},\"id\":\"18581884-2bfe-4185-94cb-0dd1a1ad55bb\",\"type\":\"YearsTicker\"},{\"attributes\":{\"plot\":{\"id\":\"aab7bfa4-1dae-4b79-90d2-ec676d13ba66\",\"subtype\":\"Figure\",\"type\":\"Plot\"},\"ticker\":{\"id\":\"2d295b88-ab6d-40df-a5b5-70cfa41333df\",\"type\":\"DatetimeTicker\"}},\"id\":\"46487c0b-9721-4568-a235-5e68de84a6b3\",\"type\":\"Grid\"},{\"attributes\":{\"months\":[0,6]},\"id\":\"d68dc828-278e-4493-a802-eb919a22a987\",\"type\":\"MonthsTicker\"},{\"attributes\":{\"below\":[{\"id\":\"832e2870-f06a-42c6-b44c-0980076351de\",\"type\":\"DatetimeAxis\"}],\"left\":[{\"id\":\"41e3d42b-b3d4-46ae-827b-5d30c2f6c566\",\"type\":\"LinearAxis\"}],\"plot_height\":400,\"plot_width\":400,\"renderers\":[{\"id\":\"832e2870-f06a-42c6-b44c-0980076351de\",\"type\":\"DatetimeAxis\"},{\"id\":\"46487c0b-9721-4568-a235-5e68de84a6b3\",\"type\":\"Grid\"},{\"id\":\"41e3d42b-b3d4-46ae-827b-5d30c2f6c566\",\"type\":\"LinearAxis\"},{\"id\":\"25026e64-deeb-41b4-981a-6c342b06cf2f\",\"type\":\"Grid\"},{\"id\":\"2695f621-9330-4b47-89af-7318e0fb22e1\",\"type\":\"BoxAnnotation\"},{\"id\":\"9ca96171-0cc8-4ed7-a2a3-df751c29566f\",\"type\":\"PolyAnnotation\"},{\"id\":\"e96dd233-80c4-40fe-9344-9d225648fa03\",\"type\":\"GlyphRenderer\"}],\"title\":\"Water Temperature\",\"tool_events\":{\"id\":\"78ccf48a-cbf5-4e4f-aa16-f553566d3ad4\",\"type\":\"ToolEvents\"},\"tools\":[{\"id\":\"a797d2ea-fc48-4036-88cd-a3ae6be002c9\",\"type\":\"BoxSelectTool\"},{\"id\":\"b9fcb0af-f4fa-4b02-baab-8145d9277826\",\"type\":\"LassoSelectTool\"},{\"id\":\"a458f5a7-ed55-475a-a559-6a0ec9bcbd19\",\"type\":\"HelpTool\"}],\"x_range\":{\"id\":\"5a4a07bc-a5dc-4503-8ac6-75201effbe84\",\"type\":\"DataRange1d\"},\"y_range\":{\"id\":\"9694ecef-ba9b-4263-9b3f-029a2f216701\",\"type\":\"DataRange1d\"}},\"id\":\"aab7bfa4-1dae-4b79-90d2-ec676d13ba66\",\"subtype\":\"Figure\",\"type\":\"Plot\"},{\"attributes\":{\"months\":[0,2,4,6,8,10]},\"id\":\"a2819a06-b5c4-4208-bf65-179bbb8e4257\",\"type\":\"MonthsTicker\"},{\"attributes\":{},\"id\":\"a944bfe2-d182-49fc-a238-dc78972d9c56\",\"type\":\"BasicTickFormatter\"},{\"attributes\":{\"fill_color\":{\"value\":\"#1f77b4\"},\"line_color\":{\"value\":\"#1f77b4\"},\"x\":{\"field\":\"x\"},\"y\":{\"field\":\"y\"}},\"id\":\"e07c2fbd-d3e2-4d7c-8faf-5bacb4e4d0d9\",\"type\":\"Circle\"},{\"attributes\":{\"days\":[1,2,3,4,5,6,7,8,9,10,11,12,13,14,15,16,17,18,19,20,21,22,23,24,25,26,27,28,29,30,31]},\"id\":\"3bcaa464-9cfa-470d-bd9b-45d7aaa5dac3\",\"type\":\"DaysTicker\"},{\"attributes\":{\"formatter\":{\"id\":\"a944bfe2-d182-49fc-a238-dc78972d9c56\",\"type\":\"BasicTickFormatter\"},\"plot\":{\"id\":\"aab7bfa4-1dae-4b79-90d2-ec676d13ba66\",\"subtype\":\"Figure\",\"type\":\"Plot\"},\"ticker\":{\"id\":\"93a20ef6-3660-4872-aecb-d2aab3803cc1\",\"type\":\"BasicTicker\"}},\"id\":\"41e3d42b-b3d4-46ae-827b-5d30c2f6c566\",\"type\":\"LinearAxis\"},{\"attributes\":{\"callback\":{\"id\":\"6b97bdf2-4b26-4f68-a9e6-adf4c9ab9d2b\",\"type\":\"CustomJS\"},\"column_names\":[\"y\",\"x\",\"z\"],\"data\":{\"x\":[1470700800000.0,1470701700000.0,1470702600000.0,1470703500000.0,1470704400000.0,1470705300000.0,1470706200000.0,1470707100000.0,1470708000000.0,1470708900000.0,1470709800000.0,1470710700000.0,1470711600000.0,1470712500000.0,1470713400000.0,1470714300000.0,1470715200000.0,1470716100000.0,1470717000000.0,1470717900000.0,1470718800000.0,1470719700000.0,1470720600000.0,1470721500000.0,1470722400000.0,1470723300000.0,1470724200000.0,1470725100000.0,1470726000000.0,1470726900000.0,1470727800000.0,1470728700000.0,1470729600000.0,1470730500000.0,1470731400000.0,1470732300000.0,1470733200000.0,1470734100000.0,1470735000000.0,1470735900000.0,1470736800000.0,1470737700000.0,1470738600000.0,1470739500000.0,1470740400000.0,1470741300000.0,1470742200000.0,1470743100000.0,1470744000000.0,1470744900000.0,1470745800000.0,1470746700000.0,1470747600000.0,1470748500000.0,1470749400000.0,1470750300000.0,1470751200000.0,1470752100000.0,1470753000000.0,1470753900000.0,1470754800000.0,1470755700000.0,1470756600000.0,1470757500000.0,1470758400000.0,1470759300000.0,1470760200000.0,1470761100000.0,1470762000000.0,1470762900000.0,1470763800000.0,1470764700000.0,1470765600000.0,1470766500000.0,1470767400000.0,1470768300000.0,1470769200000.0,1470770100000.0,1470771000000.0,1470771900000.0,1470772800000.0,1470773700000.0,1470774600000.0,1470775500000.0,1470776400000.0,1470777300000.0,1470778200000.0,1470779100000.0,1470780000000.0,1470780900000.0,1470781800000.0,1470782700000.0,1470783600000.0,1470784500000.0,1470785400000.0,1470786300000.0,1470787200000.0,1470788100000.0,1470789000000.0,1470789900000.0,1470790800000.0,1470791700000.0,1470792600000.0,1470793500000.0,1470794400000.0,1470795300000.0,1470796200000.0,1470797100000.0,1470798000000.0,1470798900000.0,1470799800000.0,1470800700000.0,1470801600000.0,1470802500000.0,1470803400000.0,1470804300000.0,1470805200000.0,1470806100000.0,1470807000000.0,1470807900000.0,1470808800000.0,1470809700000.0,1470810600000.0,1470811500000.0,1470812400000.0,1470813300000.0,1470814200000.0,1470815100000.0,1470816000000.0,1470816900000.0,1470817800000.0,1470818700000.0,1470819600000.0,1470820500000.0,1470821400000.0,1470822300000.0,1470823200000.0,1470824100000.0,1470825000000.0,1470825900000.0,1470826800000.0,1470827700000.0,1470828600000.0,1470829500000.0,1470830400000.0,1470831300000.0,1470832200000.0,1470833100000.0,1470834000000.0,1470834900000.0,1470835800000.0,1470836700000.0,1470837600000.0,1470838500000.0,1470839400000.0,1470840300000.0,1470841200000.0,1470842100000.0,1470843000000.0,1470843900000.0,1470844800000.0,1470845700000.0,1470846600000.0,1470847500000.0,1470848400000.0,1470849300000.0,1470850200000.0,1470851100000.0,1470852000000.0,1470852900000.0,1470853800000.0,1470854700000.0,1470855600000.0,1470856500000.0,1470857400000.0,1470858300000.0,1470859200000.0,1470860100000.0,1470861000000.0,1470861900000.0,1470862800000.0,1470863700000.0,1470864600000.0,1470865500000.0,1470866400000.0,1470867300000.0,1470868200000.0,1470869100000.0,1470870000000.0,1470870900000.0,1470871800000.0,1470872700000.0,1470873600000.0,1470874500000.0,1470875400000.0,1470876300000.0,1470877200000.0,1470878100000.0,1470879000000.0,1470879900000.0,1470880800000.0,1470881700000.0,1470882600000.0,1470883500000.0,1470884400000.0,1470885300000.0,1470886200000.0,1470887100000.0,1470888000000.0,1470888900000.0,1470889800000.0,1470890700000.0,1470891600000.0,1470892500000.0,1470893400000.0,1470894300000.0,1470895200000.0,1470896100000.0,1470897000000.0,1470897900000.0,1470898800000.0,1470899700000.0,1470900600000.0,1470901500000.0,1470902400000.0,1470903300000.0,1470904200000.0,1470905100000.0,1470906000000.0,1470906900000.0,1470907800000.0,1470908700000.0,1470909600000.0,1470910500000.0,1470911400000.0,1470912300000.0,1470913200000.0,1470914100000.0,1470915000000.0,1470915900000.0,1470916800000.0,1470917700000.0,1470918600000.0,1470919500000.0,1470920400000.0,1470921300000.0,1470922200000.0,1470923100000.0,1470924000000.0,1470924900000.0,1470925800000.0,1470926700000.0,1470927600000.0,1470928500000.0,1470929400000.0,1470930300000.0,1470931200000.0,1470932100000.0,1470933000000.0,1470933900000.0,1470934800000.0,1470935700000.0,1470936600000.0,1470937500000.0,1470938400000.0,1470939300000.0,1470940200000.0,1470941100000.0,1470942000000.0,1470942900000.0,1470943800000.0,1470944700000.0,1470945600000.0,1470946500000.0,1470947400000.0,1470948300000.0,1470949200000.0,1470950100000.0,1470951000000.0,1470951900000.0,1470952800000.0,1470953700000.0,1470954600000.0,1470955500000.0,1470956400000.0,1470957300000.0,1470958200000.0,1470959100000.0,1470960000000.0,1470960900000.0,1470961800000.0,1470962700000.0,1470963600000.0,1470964500000.0,1470965400000.0,1470966300000.0,1470967200000.0,1470968100000.0,1470969000000.0,1470969900000.0,1470970800000.0,1470971700000.0,1470972600000.0,1470973500000.0,1470974400000.0,1470975300000.0,1470976200000.0,1470977100000.0,1470978000000.0,1470978900000.0,1470979800000.0,1470980700000.0,1470981600000.0,1470982500000.0,1470983400000.0,1470984300000.0,1470985200000.0,1470986100000.0,1470987000000.0,1470987900000.0,1470988800000.0,1470989700000.0,1470990600000.0,1470991500000.0,1470992400000.0,1470993300000.0,1470994200000.0,1470995100000.0,1470996000000.0,1470996900000.0,1470997800000.0,1470998700000.0,1470999600000.0,1471000500000.0,1471001400000.0,1471002300000.0,1471003200000.0,1471004100000.0,1471005000000.0,1471005900000.0,1471006800000.0,1471007700000.0,1471008600000.0,1471009500000.0,1471010400000.0,1471011300000.0,1471012200000.0,1471013100000.0,1471014000000.0,1471014900000.0,1471015800000.0,1471016700000.0,1471017600000.0,1471018500000.0,1471019400000.0,1471020300000.0,1471021200000.0,1471022100000.0,1471023000000.0,1471023900000.0,1471024800000.0,1471025700000.0,1471026600000.0,1471027500000.0,1471028400000.0,1471029300000.0,1471030200000.0,1471031100000.0,1471032000000.0,1471032900000.0,1471033800000.0,1471034700000.0,1471035600000.0,1471036500000.0,1471037400000.0,1471038300000.0,1471039200000.0,1471040100000.0,1471041000000.0,1471041900000.0,1471042800000.0,1471043700000.0,1471044600000.0,1471045500000.0,1471046400000.0],\"y\":[16.4924,16.4902,16.488,16.4835,16.4835,16.4814,16.4792,16.477,16.4748,16.4727,16.4705,16.4705,16.4727,16.4705,16.4705,16.4705,16.4727,16.4683,16.4683,16.4683,16.4705,16.4705,16.4705,16.4683,16.4705,16.4727,16.4748,16.4748,16.477,16.477,16.4814,16.4792,16.477,16.477,16.4814,16.4835,16.4814,16.4835,16.4835,16.4835,16.4859,16.4859,16.4859,16.4859,16.4835,16.4835,16.4792,16.4792,16.4792,16.4727,16.4727,16.4705,16.4705,16.4683,16.4616,16.4616,16.4573,16.4551,16.4529,16.4506,16.4484,16.4441,16.4441,16.4419,16.4376,16.4376,16.4354,16.4354,16.4331,16.4354,16.4376,16.4354,16.4376,16.4376,16.4354,16.4397,16.4397,16.4376,16.4397,16.4419,16.4419,16.4441,16.4397,16.4419,16.4441,16.4484,16.4463,16.4484,16.4506,16.4506,16.4506,16.4551,16.4506,16.4506,16.4441,16.4441,16.4397,16.4397,16.4376,16.4331,16.4309,16.4309,16.4265,16.4244,16.4222,16.42,16.4155,16.4178,16.4178,16.4178,16.4155,16.4133,16.4155,16.4133,16.4155,16.4112,16.4133,16.4155,16.4178,16.42,16.4178,16.4222,16.4222,16.4222,16.4244,16.4244,16.4265,16.4287,16.4309,16.4354,16.4331,16.4331,16.4354,16.4397,16.4376,16.4331,16.4354,16.4331,16.4331,16.4397,16.4376,16.4331,16.4376,16.4331,16.4287,16.4287,16.4265,16.4265,93.618,112.914,112.911,112.896,112.894,112.879,112.864,112.864,112.833,112.818,112.818,112.818,112.818,112.739,112.73,112.73,112.743,112.743,112.743,112.773,112.758,112.758,112.773,112.773,112.773,112.773,112.788,112.818,112.803,112.818,112.849,112.833,112.818,112.818,112.833,112.818,112.833,112.833,112.818,112.833,112.803,112.818,112.803,112.818,112.773,112.788,112.758,112.758,112.728,112.712,112.697,112.682,112.682,112.667,112.667,112.667,112.682,112.667,112.667,112.652,112.682,112.667,112.667,112.652,112.652,112.652,112.667,112.682,112.682,112.697,112.712,112.728,112.728,112.743,112.758,112.728,112.743,112.758,112.743,112.758,112.773,112.788,112.788,112.773,112.788,112.788,112.773,112.758,112.758,112.758,112.758,112.773,112.743,112.758,112.758,112.758,112.712,112.697,112.667,112.682,112.652,112.652,112.637,112.637,112.622,112.622,112.591,112.591,112.607,112.607,112.637,112.591,112.607,112.591,112.607,112.591,112.622,112.637,112.637,112.637,112.622,112.637,112.622,112.652,112.652,112.652,112.667,112.667,112.682,112.682,112.697,112.697,112.697,112.697,112.728,112.728,112.712,112.712,112.712,112.697,112.667,112.667,112.667,112.652,112.637,112.607,112.607,112.591,112.591,112.576,112.561,112.561,112.546,112.546,112.546,112.561,112.546,112.561,112.546,112.561,112.576,112.576,112.576,112.591,112.591,112.607,112.607,112.637,112.637,112.652,112.652,112.652,112.667,112.682,112.712,112.712,112.728,112.728,112.758,112.758,112.758,112.773,112.758,112.773,112.758,112.743,112.758,112.743,112.728,112.728,112.712,112.728,112.712,112.697,112.697,112.697,112.697,112.667,112.652,112.622,112.607,112.607,112.607,112.607,112.622,112.622,112.607,112.607,112.607,112.607,112.607,112.607,112.607,112.591,112.622,112.637,112.652,112.667,112.667,112.667,112.667,112.697,112.697,112.697,112.712,112.728,112.743,112.743,112.758,112.758,112.743,112.743,112.728,112.743,112.728,112.743,112.712],\"z\":[5256485,5256489,5256493,5256497,5256501,5256505,5256509,5256513,5256517,5256521,5256525,5256529,5256533,5256537,5256541,5256545,5256549,5256553,5256557,5256561,5256565,5256569,5256573,5256577,5256581,5256585,5256589,5256593,5256597,5256601,5256605,5256609,5256613,5256617,5256621,5256625,5256629,5256633,5256637,5256641,5256645,5256649,5256653,5256657,5256661,5256665,5256669,5256673,5256677,5256681,5256685,5256689,5256693,5256697,5256701,5256705,5256709,5256713,5256717,5256721,5256725,5256729,5256733,5256737,5256741,5256745,5256749,5256753,5256757,5256761,5256765,5256769,5256773,5256777,5256781,5256785,5256789,5256793,5256797,5256801,5256805,5256809,5256813,5256817,5256821,5256825,5256829,5256833,5256837,5256841,5256845,5256849,5256853,5256857,5256861,5256865,5256869,5256873,5256877,5256881,5256885,5256889,5256893,5256897,5256901,5256905,5256909,5256913,5256917,5256921,5256925,5256929,5256933,5256937,5256941,5256945,5256949,5256953,5256957,5256961,5256965,5256969,5256973,5256977,5256981,5256985,5256989,5256993,5256997,5257001,5257005,5257009,5257013,5257017,5257021,5257025,5257029,5257033,5257037,5257041,5257045,5257049,5257053,5257057,5257061,5257065,5257069,5257073,5953373,5953377,5953381,5953385,5953389,5953393,5953397,5953401,5953405,5953409,5953413,5953417,5953421,5953425,5953429,5953433,5953437,5953441,5953445,5953449,5953453,5953457,5953461,5953465,5953469,5953473,5953477,5953481,5953485,5953489,5953493,5953497,5953501,5953505,5953509,5953513,5953517,5953521,5953525,5953529,5953533,5953537,5953541,5953545,5953549,5953553,5953557,5953561,5953565,5953569,5953573,5953577,5953581,5953585,5953589,5953593,5953597,5953601,5953605,5953609,5953613,5953617,5953621,5953625,5953629,5953633,5953637,5953641,5953645,5953649,5953653,5953657,5953661,5953665,5953669,5953673,5953677,5953681,5953685,5953689,5953693,5953697,5953701,5953705,5953709,5953713,5953717,5953721,5953725,5953729,5953733,5953737,5953741,5953745,5953749,5953753,5953757,5953761,5953765,5953769,5953773,5953777,5953781,5953785,5953789,5953793,5953797,5953801,5953805,5953809,5953813,5953817,5953821,5953825,5953829,5953833,5953837,5953841,5953845,5953849,5953853,5953857,5953861,5953865,5953869,5953873,5953877,5953881,5953885,5953889,5953893,5953897,5953901,5953905,5953909,5953913,5953917,5953921,5953925,5953929,5953933,5953937,5953941,5953945,5953949,5953953,5953957,5953961,5953965,5953969,5953973,5953977,5953981,5953985,5953989,5953993,5953997,5954001,5954005,5954009,5954013,5954017,5954021,5954025,5954029,5954033,5954037,5954041,5954045,5954049,5954053,5954057,5954061,5954065,5954069,5954073,5954077,5954081,5954085,5954089,5954093,5954097,5954101,5954105,5954109,5954113,5954117,5954121,5954125,5954129,5954133,5954137,5954141,5954145,5954149,5954153,5954157,5954161,5954165,5954169,5954173,5954177,5954181,5954185,5954189,5954193,5954197,5954201,5954205,5954209,5954213,5954217,5954221,5954225,5954229,5954233,5954237,5954241,5954245,5954249,5954253,5954257,5954261,5954265,5954269,5954273,5954277,5954281,5954285,5954289,5954293,5954297,5954301,5954305,5954309,5954313,5955060]}},\"id\":\"e1ea6ba7-1208-48b3-957f-8aa2cb1d89c9\",\"type\":\"ColumnDataSource\"},{\"attributes\":{\"callback\":null},\"id\":\"5a4a07bc-a5dc-4503-8ac6-75201effbe84\",\"type\":\"DataRange1d\"},{\"attributes\":{\"months\":[0,6]},\"id\":\"92da8a14-eae5-4387-9d27-62216ce6bf64\",\"type\":\"MonthsTicker\"},{\"attributes\":{\"below\":[{\"id\":\"58647a70-3371-4469-9815-9111a1a67244\",\"type\":\"DatetimeAxis\"}],\"left\":[{\"id\":\"aa734ef2-df55-4ff0-b755-861145bab50e\",\"type\":\"LinearAxis\"}],\"plot_height\":400,\"plot_width\":400,\"renderers\":[{\"id\":\"58647a70-3371-4469-9815-9111a1a67244\",\"type\":\"DatetimeAxis\"},{\"id\":\"5fd28994-460e-49ec-9ed6-9c6ffd29c1b5\",\"type\":\"Grid\"},{\"id\":\"aa734ef2-df55-4ff0-b755-861145bab50e\",\"type\":\"LinearAxis\"},{\"id\":\"5dabcf13-0890-4b3c-a41a-08205297fd2c\",\"type\":\"Grid\"},{\"id\":\"fc23e96e-7235-4385-b3d5-19adb2e48686\",\"type\":\"GlyphRenderer\"}],\"title\":\"Selected Data\",\"tool_events\":{\"id\":\"c1a55c2a-2a7e-4c31-87f2-5f7a22c412bd\",\"type\":\"ToolEvents\"},\"x_range\":{\"id\":\"478b6043-a0c8-428a-b033-8f93e2b7ec97\",\"type\":\"DataRange1d\"},\"y_range\":{\"id\":\"a3ee9201-2685-47dd-a69b-de7364c9e016\",\"type\":\"Range1d\"}},\"id\":\"5c10cec2-04ce-44ed-acce-5ca2a5907cd4\",\"subtype\":\"Figure\",\"type\":\"Plot\"},{\"attributes\":{\"data_source\":{\"id\":\"2798e4e6-0872-48ac-8e84-c50b8e33af90\",\"type\":\"ColumnDataSource\"},\"glyph\":{\"id\":\"e07c2fbd-d3e2-4d7c-8faf-5bacb4e4d0d9\",\"type\":\"Circle\"},\"hover_glyph\":null,\"nonselection_glyph\":{\"id\":\"aa172022-a76d-424f-8b5f-4863614e95be\",\"type\":\"Circle\"},\"selection_glyph\":null},\"id\":\"e96dd233-80c4-40fe-9344-9d225648fa03\",\"type\":\"GlyphRenderer\"},{\"attributes\":{\"num_minor_ticks\":5},\"id\":\"2d295b88-ab6d-40df-a5b5-70cfa41333df\",\"type\":\"DatetimeTicker\"},{\"attributes\":{},\"id\":\"49a767da-e714-48f9-8be0-2f94dfae4f29\",\"type\":\"ToolEvents\"},{\"attributes\":{\"months\":[0,4,8]},\"id\":\"e2d5f650-71da-482a-9a47-a66e6f270093\",\"type\":\"MonthsTicker\"},{\"attributes\":{\"days\":[1,8,15,22]},\"id\":\"37f7a810-7ad1-474e-8bd2-33c211c522c8\",\"type\":\"DaysTicker\"},{\"attributes\":{\"max_interval\":500.0,\"num_minor_ticks\":0},\"id\":\"2f545801-5a52-4087-8ab1-3f9214dc486f\",\"type\":\"AdaptiveTicker\"},{\"attributes\":{\"max_interval\":500.0,\"num_minor_ticks\":0},\"id\":\"b6eb4bfa-434f-45ea-92cf-50979d182a98\",\"type\":\"AdaptiveTicker\"},{\"attributes\":{\"days\":[1,8,15,22]},\"id\":\"b050149b-f9b8-446c-b5c1-1bebe2fff6c9\",\"type\":\"DaysTicker\"},{\"attributes\":{\"months\":[0,4,8]},\"id\":\"fb3d2743-b7ec-4bae-8efd-b2c176517fbd\",\"type\":\"MonthsTicker\"},{\"attributes\":{\"plot\":{\"id\":\"5228d8f2-9df3-4aff-a529-d7303b7d097c\",\"subtype\":\"Figure\",\"type\":\"Plot\"},\"ticker\":{\"id\":\"b336d17f-05d9-475c-ae83-eb0aa6f809c4\",\"type\":\"DatetimeTicker\"}},\"id\":\"b225a9eb-bc04-4db2-8df0-18d49e6785c7\",\"type\":\"Grid\"},{\"attributes\":{\"callback\":null},\"id\":\"478b6043-a0c8-428a-b033-8f93e2b7ec97\",\"type\":\"DataRange1d\"},{\"attributes\":{\"max_interval\":500.0,\"num_minor_ticks\":0},\"id\":\"496e7319-1803-4d49-ba1d-0168ef18ef82\",\"type\":\"AdaptiveTicker\"},{\"attributes\":{\"formatter\":{\"id\":\"ec72bb36-1338-4673-8d24-cce744578950\",\"type\":\"DatetimeTickFormatter\"},\"plot\":{\"id\":\"aab7bfa4-1dae-4b79-90d2-ec676d13ba66\",\"subtype\":\"Figure\",\"type\":\"Plot\"},\"ticker\":{\"id\":\"2d295b88-ab6d-40df-a5b5-70cfa41333df\",\"type\":\"DatetimeTicker\"}},\"id\":\"832e2870-f06a-42c6-b44c-0980076351de\",\"type\":\"DatetimeAxis\"},{\"attributes\":{\"overlay\":{\"id\":\"9ca96171-0cc8-4ed7-a2a3-df751c29566f\",\"type\":\"PolyAnnotation\"},\"plot\":{\"id\":\"aab7bfa4-1dae-4b79-90d2-ec676d13ba66\",\"subtype\":\"Figure\",\"type\":\"Plot\"}},\"id\":\"b9fcb0af-f4fa-4b02-baab-8145d9277826\",\"type\":\"LassoSelectTool\"},{\"attributes\":{\"fill_alpha\":{\"value\":0.5},\"fill_color\":{\"value\":\"lightgrey\"},\"level\":\"overlay\",\"line_alpha\":{\"value\":1.0},\"line_color\":{\"value\":\"black\"},\"line_dash\":[4,4],\"line_width\":{\"value\":2},\"plot\":null,\"xs_units\":\"screen\",\"ys_units\":\"screen\"},\"id\":\"7c081e1b-e2c9-4e73-874c-f887d262405e\",\"type\":\"PolyAnnotation\"},{\"attributes\":{\"months\":[0,1,2,3,4,5,6,7,8,9,10,11]},\"id\":\"e91f7f3f-d68a-48a1-8cc4-e5e24f4e7a1d\",\"type\":\"MonthsTicker\"},{\"attributes\":{\"num_minor_ticks\":5},\"id\":\"e47275fb-354a-446c-8c20-f599900cf3e8\",\"type\":\"DatetimeTicker\"},{\"attributes\":{\"bottom_units\":\"screen\",\"fill_alpha\":{\"value\":0.5},\"fill_color\":{\"value\":\"lightgrey\"},\"left_units\":\"screen\",\"level\":\"overlay\",\"line_alpha\":{\"value\":1.0},\"line_color\":{\"value\":\"black\"},\"line_dash\":[4,4],\"line_width\":{\"value\":2},\"plot\":null,\"render_mode\":\"css\",\"right_units\":\"screen\",\"top_units\":\"screen\"},\"id\":\"2695f621-9330-4b47-89af-7318e0fb22e1\",\"type\":\"BoxAnnotation\"},{\"attributes\":{\"base\":24,\"mantissas\":[1,2,4,6,8,12],\"max_interval\":43200000.0,\"min_interval\":3600000.0,\"num_minor_ticks\":0},\"id\":\"8039ab0f-8faa-47fc-b662-144fd5330d4b\",\"type\":\"AdaptiveTicker\"},{\"attributes\":{},\"id\":\"a8af5d45-99b2-4e2c-bf75-e33578d1d4f2\",\"type\":\"YearsTicker\"},{\"attributes\":{\"formatter\":{\"id\":\"566729a6-31e1-4191-b90d-7f4b0ff8a00f\",\"type\":\"DatetimeTickFormatter\"},\"plot\":{\"id\":\"6c6c1c3e-54f6-46cf-8935-043c7c74d00b\",\"subtype\":\"Figure\",\"type\":\"Plot\"},\"ticker\":{\"id\":\"e47275fb-354a-446c-8c20-f599900cf3e8\",\"type\":\"DatetimeTicker\"}},\"id\":\"f429eef5-8c9f-474c-8d3c-17c532199cf7\",\"type\":\"DatetimeAxis\"},{\"attributes\":{\"callback\":null},\"id\":\"7cf7a557-afd4-4d0f-9998-0193886e4e09\",\"type\":\"DataRange1d\"},{\"attributes\":{\"days\":[1,2,3,4,5,6,7,8,9,10,11,12,13,14,15,16,17,18,19,20,21,22,23,24,25,26,27,28,29,30,31]},\"id\":\"5394bba6-ae00-42e6-aa23-89e8b5d0592e\",\"type\":\"DaysTicker\"},{\"attributes\":{\"formatter\":{\"id\":\"a2a03b02-9e40-4e5f-b9b1-3f2b6e66a713\",\"type\":\"BasicTickFormatter\"},\"plot\":{\"id\":\"5c10cec2-04ce-44ed-acce-5ca2a5907cd4\",\"subtype\":\"Figure\",\"type\":\"Plot\"},\"ticker\":{\"id\":\"bb33a0d1-ce8b-4754-ae87-788e9ac46d52\",\"type\":\"BasicTicker\"}},\"id\":\"aa734ef2-df55-4ff0-b755-861145bab50e\",\"type\":\"LinearAxis\"},{\"attributes\":{\"days\":[1,4,7,10,13,16,19,22,25,28]},\"id\":\"79dc2d0a-aad4-43cb-9710-9f88aa83d9a3\",\"type\":\"DaysTicker\"},{\"attributes\":{},\"id\":\"c1a55c2a-2a7e-4c31-87f2-5f7a22c412bd\",\"type\":\"ToolEvents\"},{\"attributes\":{\"below\":[{\"id\":\"f429eef5-8c9f-474c-8d3c-17c532199cf7\",\"type\":\"DatetimeAxis\"}],\"left\":[{\"id\":\"e6563c86-a07a-4917-b55a-612639a68418\",\"type\":\"LinearAxis\"}],\"plot_height\":400,\"plot_width\":400,\"renderers\":[{\"id\":\"f429eef5-8c9f-474c-8d3c-17c532199cf7\",\"type\":\"DatetimeAxis\"},{\"id\":\"2fa66585-7414-4c92-8655-ca4a624bc78e\",\"type\":\"Grid\"},{\"id\":\"e6563c86-a07a-4917-b55a-612639a68418\",\"type\":\"LinearAxis\"},{\"id\":\"e8d0d7a5-a9a5-4a28-be15-81b652d6de4d\",\"type\":\"Grid\"},{\"id\":\"4576708a-99c4-4488-8967-a140920c56da\",\"type\":\"GlyphRenderer\"}],\"title\":\"Selected Data\",\"tool_events\":{\"id\":\"dbba5fe0-8c75-4f81-b1af-0da6e1716a28\",\"type\":\"ToolEvents\"},\"x_range\":{\"id\":\"6804cd1e-642d-49d1-97d3-0e603d4cd30f\",\"type\":\"DataRange1d\"},\"y_range\":{\"id\":\"2e5693df-f966-47a6-9ca6-ee05c09ddfe3\",\"type\":\"Range1d\"}},\"id\":\"6c6c1c3e-54f6-46cf-8935-043c7c74d00b\",\"subtype\":\"Figure\",\"type\":\"Plot\"},{\"attributes\":{},\"id\":\"a2a03b02-9e40-4e5f-b9b1-3f2b6e66a713\",\"type\":\"BasicTickFormatter\"},{\"attributes\":{\"dimension\":1,\"plot\":{\"id\":\"aab7bfa4-1dae-4b79-90d2-ec676d13ba66\",\"subtype\":\"Figure\",\"type\":\"Plot\"},\"ticker\":{\"id\":\"93a20ef6-3660-4872-aecb-d2aab3803cc1\",\"type\":\"BasicTicker\"}},\"id\":\"25026e64-deeb-41b4-981a-6c342b06cf2f\",\"type\":\"Grid\"},{\"attributes\":{},\"id\":\"168fe70f-69e5-4680-89cb-946bf8378b81\",\"type\":\"BasicTickFormatter\"},{\"attributes\":{\"base\":60,\"mantissas\":[1,2,5,10,15,20,30],\"max_interval\":1800000.0,\"min_interval\":1000.0,\"num_minor_ticks\":0},\"id\":\"afaea17e-1655-40c3-870b-ba70c5217083\",\"type\":\"AdaptiveTicker\"},{\"attributes\":{\"data_source\":{\"id\":\"6ff619fb-8621-4564-aec9-9aa1978486bb\",\"type\":\"ColumnDataSource\"},\"glyph\":{\"id\":\"0b056bed-8fd1-4a04-9773-4e5014b4fa55\",\"type\":\"Circle\"},\"hover_glyph\":null,\"nonselection_glyph\":{\"id\":\"84c3c2c2-ae23-4508-87b9-950743123a31\",\"type\":\"Circle\"},\"selection_glyph\":null},\"id\":\"4576708a-99c4-4488-8967-a140920c56da\",\"type\":\"GlyphRenderer\"},{\"attributes\":{\"fill_alpha\":{\"value\":0.6},\"fill_color\":{\"value\":\"#1f77b4\"},\"line_alpha\":{\"value\":0.6},\"line_color\":{\"value\":\"#1f77b4\"},\"x\":{\"field\":\"x\"},\"y\":{\"field\":\"y\"}},\"id\":\"20011996-09b6-4845-915d-95f73d0f6b46\",\"type\":\"Circle\"},{\"attributes\":{},\"id\":\"6b3eda52-88ae-4aa2-b9e6-4825a537fec1\",\"type\":\"BasicTickFormatter\"},{\"attributes\":{\"fill_alpha\":{\"value\":0.1},\"fill_color\":{\"value\":\"#1f77b4\"},\"line_alpha\":{\"value\":0.1},\"line_color\":{\"value\":\"#1f77b4\"},\"x\":{\"field\":\"x\"},\"y\":{\"field\":\"y\"}},\"id\":\"84c3c2c2-ae23-4508-87b9-950743123a31\",\"type\":\"Circle\"},{\"attributes\":{\"base\":60,\"mantissas\":[1,2,5,10,15,20,30],\"max_interval\":1800000.0,\"min_interval\":1000.0,\"num_minor_ticks\":0},\"id\":\"c6a413e3-aff3-4440-b750-60dd9fe56c1e\",\"type\":\"AdaptiveTicker\"},{\"attributes\":{},\"id\":\"c0c5b003-0214-45c3-9266-76da0e5a4ecb\",\"type\":\"BasicTicker\"},{\"attributes\":{\"months\":[0,2,4,6,8,10]},\"id\":\"ce5ea937-ece3-45b8-9cf8-9e6c8505d0a8\",\"type\":\"MonthsTicker\"},{\"attributes\":{\"months\":[0,4,8]},\"id\":\"29b01db2-b9d2-4ca6-97e8-8179c0651c1c\",\"type\":\"MonthsTicker\"},{\"attributes\":{\"days\":[1,8,15,22]},\"id\":\"ad32e154-0b5f-44a1-84c6-bb54d58f353b\",\"type\":\"DaysTicker\"},{\"attributes\":{\"plot\":{\"id\":\"5c10cec2-04ce-44ed-acce-5ca2a5907cd4\",\"subtype\":\"Figure\",\"type\":\"Plot\"},\"ticker\":{\"id\":\"80c16973-62d3-4728-a427-1f870810ab54\",\"type\":\"DatetimeTicker\"}},\"id\":\"5fd28994-460e-49ec-9ed6-9c6ffd29c1b5\",\"type\":\"Grid\"},{\"attributes\":{\"callback\":null,\"end\":124.20540000000001,\"start\":14.770080000000002},\"id\":\"2e5693df-f966-47a6-9ca6-ee05c09ddfe3\",\"type\":\"Range1d\"},{\"attributes\":{},\"id\":\"dbba5fe0-8c75-4f81-b1af-0da6e1716a28\",\"type\":\"ToolEvents\"},{\"attributes\":{\"fill_color\":{\"value\":\"#1f77b4\"},\"line_color\":{\"value\":\"#1f77b4\"},\"x\":{\"field\":\"x\"},\"y\":{\"field\":\"y\"}},\"id\":\"14768c7a-7dc1-4141-a998-d0827edaf28d\",\"type\":\"Circle\"},{\"attributes\":{\"max_interval\":500.0,\"num_minor_ticks\":0},\"id\":\"3b849943-f2f9-416d-b939-d1ebeeed19c2\",\"type\":\"AdaptiveTicker\"},{\"attributes\":{\"plot\":{\"id\":\"6c6c1c3e-54f6-46cf-8935-043c7c74d00b\",\"subtype\":\"Figure\",\"type\":\"Plot\"},\"ticker\":{\"id\":\"e47275fb-354a-446c-8c20-f599900cf3e8\",\"type\":\"DatetimeTicker\"}},\"id\":\"2fa66585-7414-4c92-8655-ca4a624bc78e\",\"type\":\"Grid\"},{\"attributes\":{\"fill_alpha\":{\"value\":0.1},\"fill_color\":{\"value\":\"#1f77b4\"},\"line_alpha\":{\"value\":0.1},\"line_color\":{\"value\":\"#1f77b4\"},\"x\":{\"field\":\"x\"},\"y\":{\"field\":\"y\"}},\"id\":\"851e94b5-3daf-4262-9490-dfc2c7597768\",\"type\":\"Circle\"},{\"attributes\":{\"base\":24,\"mantissas\":[1,2,4,6,8,12],\"max_interval\":43200000.0,\"min_interval\":3600000.0,\"num_minor_ticks\":0},\"id\":\"b8e4381f-48e0-497a-a859-e6a44f67e7fd\",\"type\":\"AdaptiveTicker\"},{\"attributes\":{\"formatter\":{\"id\":\"6b3eda52-88ae-4aa2-b9e6-4825a537fec1\",\"type\":\"BasicTickFormatter\"},\"plot\":{\"id\":\"5228d8f2-9df3-4aff-a529-d7303b7d097c\",\"subtype\":\"Figure\",\"type\":\"Plot\"},\"ticker\":{\"id\":\"c0c5b003-0214-45c3-9266-76da0e5a4ecb\",\"type\":\"BasicTicker\"}},\"id\":\"b2a2d776-850a-4ea3-8165-c92dd6d6931c\",\"type\":\"LinearAxis\"},{\"attributes\":{\"callback\":null,\"end\":27.1051,\"start\":18.8109},\"id\":\"a3ee9201-2685-47dd-a69b-de7364c9e016\",\"type\":\"Range1d\"},{\"attributes\":{\"days\":[1,8,15,22]},\"id\":\"36813685-7d56-4704-b7a7-b5407ff9c866\",\"type\":\"DaysTicker\"},{\"attributes\":{\"bottom_units\":\"screen\",\"fill_alpha\":{\"value\":0.5},\"fill_color\":{\"value\":\"lightgrey\"},\"left_units\":\"screen\",\"level\":\"overlay\",\"line_alpha\":{\"value\":1.0},\"line_color\":{\"value\":\"black\"},\"line_dash\":[4,4],\"line_width\":{\"value\":2},\"plot\":null,\"render_mode\":\"css\",\"right_units\":\"screen\",\"top_units\":\"screen\"},\"id\":\"cccf4f00-9d49-487e-a22e-e98e49f524b3\",\"type\":\"BoxAnnotation\"},{\"attributes\":{\"days\":[1,2,3,4,5,6,7,8,9,10,11,12,13,14,15,16,17,18,19,20,21,22,23,24,25,26,27,28,29,30,31]},\"id\":\"5e359254-19cf-4c88-8475-19a68eed2728\",\"type\":\"DaysTicker\"},{\"attributes\":{},\"id\":\"06ae1fb8-6d03-43fd-9210-5d4789fd89ff\",\"type\":\"BasicTicker\"},{\"attributes\":{\"base\":24,\"mantissas\":[1,2,4,6,8,12],\"max_interval\":43200000.0,\"min_interval\":3600000.0,\"num_minor_ticks\":0},\"id\":\"1f14bb0c-acb2-42d6-a71c-33824c8356a0\",\"type\":\"AdaptiveTicker\"},{\"attributes\":{},\"id\":\"bb33a0d1-ce8b-4754-ae87-788e9ac46d52\",\"type\":\"BasicTicker\"},{\"attributes\":{},\"id\":\"78ccf48a-cbf5-4e4f-aa16-f553566d3ad4\",\"type\":\"ToolEvents\"},{\"attributes\":{\"callback\":null},\"id\":\"6804cd1e-642d-49d1-97d3-0e603d4cd30f\",\"type\":\"DataRange1d\"},{\"attributes\":{\"num_minor_ticks\":5},\"id\":\"80c16973-62d3-4728-a427-1f870810ab54\",\"type\":\"DatetimeTicker\"},{\"attributes\":{\"fill_alpha\":{\"value\":0.5},\"fill_color\":{\"value\":\"lightgrey\"},\"level\":\"overlay\",\"line_alpha\":{\"value\":1.0},\"line_color\":{\"value\":\"black\"},\"line_dash\":[4,4],\"line_width\":{\"value\":2},\"plot\":null,\"xs_units\":\"screen\",\"ys_units\":\"screen\"},\"id\":\"9ca96171-0cc8-4ed7-a2a3-df751c29566f\",\"type\":\"PolyAnnotation\"},{\"attributes\":{\"months\":[0,1,2,3,4,5,6,7,8,9,10,11]},\"id\":\"6f7c6ca7-7ef4-48b5-9e8a-3dafe80ec772\",\"type\":\"MonthsTicker\"},{\"attributes\":{\"num_minor_ticks\":5},\"id\":\"b336d17f-05d9-475c-ae83-eb0aa6f809c4\",\"type\":\"DatetimeTicker\"},{\"attributes\":{\"months\":[0,2,4,6,8,10]},\"id\":\"4488d78b-2b6b-4ed5-b4fb-f06f60d3f5a6\",\"type\":\"MonthsTicker\"},{\"attributes\":{\"callback\":null,\"overlay\":{\"id\":\"cccf4f00-9d49-487e-a22e-e98e49f524b3\",\"type\":\"BoxAnnotation\"},\"plot\":{\"id\":\"5228d8f2-9df3-4aff-a529-d7303b7d097c\",\"subtype\":\"Figure\",\"type\":\"Plot\"},\"renderers\":[{\"id\":\"11f472db-2a96-47c2-8a40-a3a069387fcd\",\"type\":\"GlyphRenderer\"}]},\"id\":\"a2533a04-bbcc-45b2-8e3a-638ad756cc82\",\"type\":\"BoxSelectTool\"},{\"attributes\":{\"callback\":{\"id\":\"4d358721-ce43-4431-894b-ad584d112756\",\"type\":\"CustomJS\"},\"column_names\":[\"y\",\"x\",\"z\"],\"data\":{\"x\":[1470700800000.0,1470701700000.0,1470702600000.0,1470703500000.0,1470704400000.0,1470705300000.0,1470706200000.0,1470707100000.0,1470708000000.0,1470708900000.0,1470709800000.0,1470710700000.0,1470711600000.0,1470712500000.0,1470713400000.0,1470714300000.0,1470715200000.0,1470716100000.0,1470717000000.0,1470717900000.0,1470718800000.0,1470719700000.0,1470720600000.0,1470721500000.0,1470722400000.0,1470723300000.0,1470724200000.0,1470725100000.0,1470726000000.0,1470726900000.0,1470727800000.0,1470728700000.0,1470729600000.0,1470730500000.0,1470731400000.0,1470732300000.0,1470733200000.0,1470734100000.0,1470735000000.0,1470735900000.0,1470736800000.0,1470737700000.0,1470738600000.0,1470739500000.0,1470740400000.0,1470741300000.0,1470742200000.0,1470743100000.0,1470744000000.0,1470744900000.0,1470745800000.0,1470746700000.0,1470747600000.0,1470748500000.0,1470749400000.0,1470750300000.0,1470751200000.0,1470752100000.0,1470753000000.0,1470753900000.0,1470754800000.0,1470755700000.0,1470756600000.0,1470757500000.0,1470758400000.0,1470759300000.0,1470760200000.0,1470761100000.0,1470762000000.0,1470762900000.0,1470763800000.0,1470764700000.0,1470765600000.0,1470766500000.0,1470767400000.0,1470768300000.0,1470769200000.0,1470770100000.0,1470771000000.0,1470771900000.0,1470772800000.0,1470773700000.0,1470774600000.0,1470775500000.0,1470776400000.0,1470777300000.0,1470778200000.0,1470779100000.0,1470780000000.0,1470780900000.0,1470781800000.0,1470782700000.0,1470783600000.0,1470784500000.0,1470785400000.0,1470786300000.0,1470787200000.0,1470788100000.0,1470789000000.0,1470789900000.0,1470790800000.0,1470791700000.0,1470792600000.0,1470793500000.0,1470794400000.0,1470795300000.0,1470796200000.0,1470797100000.0,1470798000000.0,1470798900000.0,1470799800000.0,1470800700000.0,1470801600000.0,1470802500000.0,1470803400000.0,1470804300000.0,1470805200000.0,1470806100000.0,1470807000000.0,1470807900000.0,1470808800000.0,1470809700000.0,1470810600000.0,1470811500000.0,1470812400000.0,1470813300000.0,1470814200000.0,1470815100000.0,1470816000000.0,1470816900000.0,1470817800000.0,1470818700000.0,1470819600000.0,1470820500000.0,1470821400000.0,1470822300000.0,1470823200000.0,1470824100000.0,1470825000000.0,1470825900000.0,1470826800000.0,1470827700000.0,1470828600000.0,1470829500000.0,1470830400000.0,1470831300000.0,1470832200000.0,1470833100000.0,1470834000000.0,1470834900000.0,1470835800000.0,1470836700000.0,1470837600000.0,1470838500000.0,1470839400000.0,1470840300000.0,1470841200000.0,1470842100000.0,1470843000000.0,1470843900000.0,1470844800000.0,1470845700000.0,1470846600000.0,1470847500000.0,1470848400000.0,1470849300000.0,1470850200000.0,1470851100000.0,1470852000000.0,1470852900000.0,1470853800000.0,1470854700000.0,1470855600000.0,1470856500000.0,1470857400000.0,1470858300000.0,1470859200000.0,1470860100000.0,1470861000000.0,1470861900000.0,1470862800000.0,1470863700000.0,1470864600000.0,1470865500000.0,1470866400000.0,1470867300000.0,1470868200000.0,1470869100000.0,1470870000000.0,1470870900000.0,1470871800000.0,1470872700000.0,1470873600000.0,1470874500000.0,1470875400000.0,1470876300000.0,1470877200000.0,1470878100000.0,1470879000000.0,1470879900000.0,1470880800000.0,1470881700000.0,1470882600000.0,1470883500000.0,1470884400000.0,1470885300000.0,1470886200000.0,1470887100000.0,1470888000000.0,1470888900000.0,1470889800000.0,1470890700000.0,1470891600000.0,1470892500000.0,1470893400000.0,1470894300000.0,1470895200000.0,1470896100000.0,1470897000000.0,1470897900000.0,1470898800000.0,1470899700000.0,1470900600000.0,1470901500000.0,1470902400000.0,1470903300000.0,1470904200000.0,1470905100000.0,1470906000000.0,1470906900000.0,1470907800000.0,1470908700000.0,1470909600000.0,1470910500000.0,1470911400000.0,1470912300000.0,1470913200000.0,1470914100000.0,1470915000000.0,1470915900000.0,1470916800000.0,1470917700000.0,1470918600000.0,1470919500000.0,1470920400000.0,1470921300000.0,1470922200000.0,1470923100000.0,1470924000000.0,1470924900000.0,1470925800000.0,1470926700000.0,1470927600000.0,1470928500000.0,1470929400000.0,1470930300000.0,1470931200000.0,1470932100000.0,1470933000000.0,1470933900000.0,1470934800000.0,1470935700000.0,1470936600000.0,1470937500000.0,1470938400000.0,1470939300000.0,1470940200000.0,1470941100000.0,1470942000000.0,1470942900000.0,1470943800000.0,1470944700000.0,1470945600000.0,1470946500000.0,1470947400000.0,1470948300000.0,1470949200000.0,1470950100000.0,1470951000000.0,1470951900000.0,1470952800000.0,1470953700000.0,1470954600000.0,1470955500000.0,1470956400000.0,1470957300000.0,1470958200000.0,1470959100000.0,1470960000000.0,1470960900000.0,1470961800000.0,1470962700000.0,1470963600000.0,1470964500000.0,1470965400000.0,1470966300000.0,1470967200000.0,1470968100000.0,1470969000000.0,1470969900000.0,1470970800000.0,1470971700000.0,1470972600000.0,1470973500000.0,1470974400000.0,1470975300000.0,1470976200000.0,1470977100000.0,1470978000000.0,1470978900000.0,1470979800000.0,1470980700000.0,1470981600000.0,1470982500000.0,1470983400000.0,1470984300000.0,1470985200000.0,1470986100000.0,1470987000000.0,1470987900000.0,1470988800000.0,1470989700000.0,1470990600000.0,1470991500000.0,1470992400000.0,1470993300000.0,1470994200000.0,1470995100000.0,1470996000000.0,1470996900000.0,1470997800000.0,1470998700000.0,1470999600000.0,1471000500000.0,1471001400000.0,1471002300000.0,1471003200000.0,1471004100000.0,1471005000000.0,1471005900000.0,1471006800000.0,1471007700000.0,1471008600000.0,1471009500000.0,1471010400000.0,1471011300000.0,1471012200000.0,1471013100000.0,1471014000000.0,1471014900000.0,1471015800000.0,1471016700000.0,1471017600000.0,1471018500000.0,1471019400000.0,1471020300000.0,1471021200000.0,1471022100000.0,1471023000000.0,1471023900000.0,1471024800000.0,1471025700000.0,1471026600000.0,1471027500000.0,1471028400000.0,1471029300000.0,1471030200000.0,1471031100000.0,1471032000000.0,1471032900000.0,1471033800000.0,1471034700000.0,1471035600000.0,1471036500000.0,1471037400000.0,1471038300000.0,1471039200000.0,1471040100000.0,1471041000000.0,1471041900000.0,1471042800000.0,1471043700000.0,1471044600000.0,1471045500000.0,1471046400000.0],\"y\":[20.90111111,20.90111111,20.90111111,20.90111111,20.90111111,20.90111111,20.90111111,20.90111111,20.90111111,20.90111111,20.90111111,20.90111111,20.90111111,20.90111111,20.90111111,20.90111111,20.90111111,20.90111111,20.90111111,20.90111111,20.90111111,20.90111111,20.90111111,20.90111111,20.90111111,20.90111111,20.90111111,20.90111111,20.90111111,20.90111111,20.90111111,20.90111111,20.90111111,20.90111111,20.90111111,20.90111111,20.90111111,20.90111111,20.90111111,20.90111111,20.90111111,20.90111111,20.90111111,20.90111111,20.90111111,20.90111111,20.90111111,20.90111111,20.90111111,20.90111111,20.90111111,20.90111111,20.90111111,20.90111111,20.90111111,20.90111111,20.90111111,20.90111111,20.90111111,20.90111111,20.90111111,20.90111111,20.90111111,20.90111111,20.90111111,20.90111111,20.90111111,20.90111111,20.90111111,20.90111111,20.90111111,20.90111111,20.90111111,20.90111111,20.90111111,20.90111111,20.90111111,20.90111111,20.90111111,20.90111111,20.90111111,20.90111111,20.90111111,20.90111111,20.90111111,20.90111111,20.90111111,20.90111111,20.90111111,20.90111111,20.90111111,20.90111111,20.90111111,20.90111111,20.90111111,20.90111111,20.90111111,20.90111111,20.90111111,20.90111111,20.90111111,20.90111111,20.90111111,20.90111111,20.90111111,20.90111111,20.90111111,20.90111111,20.90111111,20.90111111,20.90111111,20.90111111,20.90111111,20.90111111,20.90111111,20.90111111,20.90111111,20.90111111,20.90111111,20.90111111,20.90111111,20.90111111,20.90111111,20.90111111,20.90111111,20.90111111,20.90111111,20.90111111,20.90111111,20.90111111,20.90111111,20.90111111,20.90111111,20.90111111,20.90111111,20.90111111,20.90111111,20.90111111,20.90111111,20.90111111,20.90111111,20.90111111,20.90111111,20.90111111,20.90111111,20.90111111,20.90111111,20.90111111,24.641,21.091,20.996,20.996,20.901,20.901,20.901,20.901,20.901,20.901,20.901,20.901,20.901,21.378,20.996,20.996,20.901,20.901,20.901,20.901,20.901,20.901,20.901,20.901,20.901,20.901,20.901,20.901,20.901,20.901,20.901,20.901,20.901,20.901,20.901,20.901,20.901,20.901,20.901,20.901,20.901,20.901,20.901,20.901,20.901,20.901,20.901,20.901,20.901,20.901,20.901,20.901,20.901,20.901,20.901,20.901,20.901,20.901,20.901,20.901,20.901,20.901,20.901,20.901,20.901,20.901,20.901,20.901,20.901,20.901,20.901,20.901,20.901,20.901,20.901,20.901,20.901,20.901,20.901,20.901,20.901,20.901,20.901,20.901,20.901,20.901,20.901,20.901,20.901,20.901,20.901,20.901,20.901,20.901,20.901,20.901,20.901,20.901,20.901,20.901,20.901,20.901,20.901,20.901,20.901,20.901,20.901,20.901,20.901,20.901,20.901,20.901,20.901,20.901,20.901,20.901,20.901,20.901,20.901,20.901,20.901,20.901,20.901,20.901,20.901,20.901,20.901,20.901,20.901,20.901,20.901,20.901,20.901,20.901,20.901,20.901,20.901,20.901,20.901,20.901,20.901,20.901,20.901,20.901,20.901,20.901,20.901,20.901,20.901,20.901,20.901,20.901,20.901,20.901,20.901,20.901,20.901,20.901,20.901,20.901,20.901,20.901,20.901,20.901,20.901,20.901,20.901,20.901,20.901,20.901,20.901,20.901,20.901,20.901,20.901,20.901,20.901,20.901,20.901,20.901,20.901,20.901,20.901,20.901,20.901,20.901,20.901,20.901,20.901,20.901,20.901,20.901,20.901,20.901,20.901,20.901,20.901,20.901,20.901,20.901,20.901,20.901,20.901,20.901,20.901,20.901,20.901,20.901,20.901,20.901,20.901,20.901,20.901,20.901,20.901,20.901,20.901,20.901,20.901,20.901,20.901,20.901,20.901,20.901,20.901,20.901,20.901,20.901,20.901,20.901,20.901,20.901,20.901,20.901,20.901,20.901,20.901],\"z\":[5256483,5256487,5256491,5256495,5256499,5256503,5256507,5256511,5256515,5256519,5256523,5256527,5256531,5256535,5256539,5256543,5256547,5256551,5256555,5256559,5256563,5256567,5256571,5256575,5256579,5256583,5256587,5256591,5256595,5256599,5256603,5256607,5256611,5256615,5256619,5256623,5256627,5256631,5256635,5256639,5256643,5256647,5256651,5256655,5256659,5256663,5256667,5256671,5256675,5256679,5256683,5256687,5256691,5256695,5256699,5256703,5256707,5256711,5256715,5256719,5256723,5256727,5256731,5256735,5256739,5256743,5256747,5256751,5256755,5256759,5256763,5256767,5256771,5256775,5256779,5256783,5256787,5256791,5256795,5256799,5256803,5256807,5256811,5256815,5256819,5256823,5256827,5256831,5256835,5256839,5256843,5256847,5256851,5256855,5256859,5256863,5256867,5256871,5256875,5256879,5256883,5256887,5256891,5256895,5256899,5256903,5256907,5256911,5256915,5256919,5256923,5256927,5256931,5256935,5256939,5256943,5256947,5256951,5256955,5256959,5256963,5256967,5256971,5256975,5256979,5256983,5256987,5256991,5256995,5256999,5257003,5257007,5257011,5257015,5257019,5257023,5257027,5257031,5257035,5257039,5257043,5257047,5257051,5257055,5257059,5257063,5257067,5257071,5953371,5953375,5953379,5953383,5953387,5953391,5953395,5953399,5953403,5953407,5953411,5953415,5953419,5953423,5953427,5953431,5953435,5953439,5953443,5953447,5953451,5953455,5953459,5953463,5953467,5953471,5953475,5953479,5953483,5953487,5953491,5953495,5953499,5953503,5953507,5953511,5953515,5953519,5953523,5953527,5953531,5953535,5953539,5953543,5953547,5953551,5953555,5953559,5953563,5953567,5953571,5953575,5953579,5953583,5953587,5953591,5953595,5953599,5953603,5953607,5953611,5953615,5953619,5953623,5953627,5953631,5953635,5953639,5953643,5953647,5953651,5953655,5953659,5953663,5953667,5953671,5953675,5953679,5953683,5953687,5953691,5953695,5953699,5953703,5953707,5953711,5953715,5953719,5953723,5953727,5953731,5953735,5953739,5953743,5953747,5953751,5953755,5953759,5953763,5953767,5953771,5953775,5953779,5953783,5953787,5953791,5953795,5953799,5953803,5953807,5953811,5953815,5953819,5953823,5953827,5953831,5953835,5953839,5953843,5953847,5953851,5953855,5953859,5953863,5953867,5953871,5953875,5953879,5953883,5953887,5953891,5953895,5953899,5953903,5953907,5953911,5953915,5953919,5953923,5953927,5953931,5953935,5953939,5953943,5953947,5953951,5953955,5953959,5953963,5953967,5953971,5953975,5953979,5953983,5953987,5953991,5953995,5953999,5954003,5954007,5954011,5954015,5954019,5954023,5954027,5954031,5954035,5954039,5954043,5954047,5954051,5954055,5954059,5954063,5954067,5954071,5954075,5954079,5954083,5954087,5954091,5954095,5954099,5954103,5954107,5954111,5954115,5954119,5954123,5954127,5954131,5954135,5954139,5954143,5954147,5954151,5954155,5954159,5954163,5954167,5954171,5954175,5954179,5954183,5954187,5954191,5954195,5954199,5954203,5954207,5954211,5954215,5954219,5954223,5954227,5954231,5954235,5954239,5954243,5954247,5954251,5954255,5954259,5954263,5954267,5954271,5954275,5954279,5954283,5954287,5954291,5954295,5954299,5954303,5954307,5954311,5955058]}},\"id\":\"2798e4e6-0872-48ac-8e84-c50b8e33af90\",\"type\":\"ColumnDataSource\"},{\"attributes\":{\"formatter\":{\"id\":\"168fe70f-69e5-4680-89cb-946bf8378b81\",\"type\":\"BasicTickFormatter\"},\"plot\":{\"id\":\"6c6c1c3e-54f6-46cf-8935-043c7c74d00b\",\"subtype\":\"Figure\",\"type\":\"Plot\"},\"ticker\":{\"id\":\"06ae1fb8-6d03-43fd-9210-5d4789fd89ff\",\"type\":\"BasicTicker\"}},\"id\":\"e6563c86-a07a-4917-b55a-612639a68418\",\"type\":\"LinearAxis\"},{\"attributes\":{\"fill_alpha\":{\"value\":0.6},\"fill_color\":{\"value\":\"#1f77b4\"},\"line_alpha\":{\"value\":0.6},\"line_color\":{\"value\":\"#1f77b4\"},\"x\":{\"field\":\"x\"},\"y\":{\"field\":\"y\"}},\"id\":\"0b056bed-8fd1-4a04-9773-4e5014b4fa55\",\"type\":\"Circle\"},{\"attributes\":{\"days\":[1,4,7,10,13,16,19,22,25,28]},\"id\":\"3b33d7f6-2af8-430b-878d-039a1110450c\",\"type\":\"DaysTicker\"}],\"root_ids\":[\"c16ec64b-3336-44e2-aaac-c0a06c3be795\",\"6d838eb0-5601-485b-bb9a-dfb6a5000aee\"]},\"title\":\"Bokeh Application\",\"version\":\"0.11.1\"}};\n",
       "            var render_items = [{\"docid\":\"6508df03-8da2-42df-b42a-161bfc8d0a8b\",\"elementid\":\"79247d3d-9846-40e0-8193-537a5e7ec3be\",\"modelid\":\"6d838eb0-5601-485b-bb9a-dfb6a5000aee\",\"notebook_comms_target\":\"f955e47a-983f-46b6-af04-bad6e51505e9\"}];\n",
       "            \n",
       "            Bokeh.embed.embed_items(docs_json, render_items);\n",
       "        });\n",
       "      },\n",
       "      function(Bokeh) {\n",
       "      }\n",
       "    ];\n",
       "  \n",
       "    function run_inline_js() {\n",
       "      for (var i = 0; i < inline_js.length; i++) {\n",
       "        inline_js[i](window.Bokeh);\n",
       "      }\n",
       "    }\n",
       "  \n",
       "    if (window._bokeh_is_loading === 0) {\n",
       "      console.log(\"Bokeh: BokehJS loaded, going straight to plotting\");\n",
       "      run_inline_js();\n",
       "    } else {\n",
       "      load_libs(js_urls, function() {\n",
       "        console.log(\"Bokeh: BokehJS plotting callback run at\", now());\n",
       "        run_inline_js();\n",
       "      });\n",
       "    }\n",
       "  }(this));\n",
       "</script>"
      ]
     },
     "metadata": {},
     "output_type": "display_data"
    },
    {
     "data": {
      "text/html": [
       "<p><code>&lt;Bokeh Notebook handle for <strong>In[14]</strong>&gt;</code></p>"
      ],
      "text/plain": [
       "<bokeh.io._CommsHandle at 0x7f03ed856f50>"
      ]
     },
     "execution_count": 14,
     "metadata": {},
     "output_type": "execute_result"
    }
   ],
   "source": [
    "s1 = ColumnDataSource(data=data)\n",
    "plot = ui_utils.selectPlot(s1,selectedResult)\n",
    "output_notebook()\n",
    "show(plot)"
   ]
  },
  {
   "cell_type": "markdown",
   "metadata": {},
   "source": [
    "11) The code below prints out the selected data points. This can be used for diagnostic purposes and is commented out here. "
   ]
  },
  {
   "cell_type": "code",
   "execution_count": null,
   "metadata": {
    "collapsed": false
   },
   "outputs": [],
   "source": [
    "# data = zip([s1.data['x'][i] for i in inds],\n",
    "#    [s1.data['y'][i] for i in inds],\n",
    "#          [s1.data['z'][i] for i in inds])\n",
    "# print(data)"
   ]
  },
  {
   "cell_type": "markdown",
   "metadata": {},
   "source": [
    "12) Next we prompt a user to enter an annotation and annotation code to prompt the user for. "
   ]
  },
  {
   "cell_type": "code",
   "execution_count": 10,
   "metadata": {
    "collapsed": false
   },
   "outputs": [
    {
     "name": "stdout",
     "output_type": "stream",
     "text": [
      "Annoatation : d, Annotation Code: d\n"
     ]
    }
   ],
   "source": [
    "\n",
    "annotationcontainer = ui_utils.annotationContainer()\n",
    "annotationcontainer"
   ]
  },
  {
   "cell_type": "markdown",
   "metadata": {},
   "source": [
    "13) Using the below drop down list select the data quality code for these records. "
   ]
  },
  {
   "cell_type": "code",
   "execution_count": 4,
   "metadata": {
    "collapsed": false
   },
   "outputs": [
    {
     "name": "stdout",
     "output_type": "stream",
     "text": [
      "Bad\n"
     ]
    }
   ],
   "source": [
    "dataqualityWidget, qdwidget =ui_utils.dataqualityWidget(DBSession)\n",
    "qdwidget\n",
    "#print(qdwidget)\n",
    "#os.write(1, str(qdwidget))\n"
   ]
  },
  {
   "cell_type": "markdown",
   "metadata": {},
   "source": [
    "14) This creates the actual annotation database record and the associated result value annotations. This links each result value to the annotation.  "
   ]
  },
  {
   "cell_type": "code",
   "execution_count": 5,
   "metadata": {
    "collapsed": false
   },
   "outputs": [
    {
     "name": "stdout",
     "output_type": "stream",
     "text": [
      "Bad\n"
     ]
    }
   ],
   "source": [
    "print(dataqualityWidget.value)"
   ]
  },
  {
   "cell_type": "code",
   "execution_count": 17,
   "metadata": {
    "collapsed": false
   },
   "outputs": [
    {
     "name": "stdout",
     "output_type": "stream",
     "text": [
      "Time series result value annotation\n",
      "Miguel\n",
      "Lithological Influences on Contemporary and Long-Term Regolith Weathering at the Luquillo Critical Zone Observatory\n",
      "\n",
      "Buss, H.L., Lara Chapela M., Moore, O.W., Kurtz A.C., Schulz, M.S., White A.F.\n",
      "<odm2api.ODM2.models.Annotations object at 0x7f03ed866b90>\n",
      "<odm2api.ODM2.models.Annotations object at 0x7f03ed866b90>\n"
     ]
    }
   ],
   "source": [
    "annotation_type =  DBSession.query(CVAnnotationType).filter_by(Name=\"Time series result value annotation\").one() \n",
    "author =  DBSession.query(People).filter_by(PersonFirstName=\"Miguel\").one()\n",
    "citation =  DBSession.query(Citations).filter_by(CitationID=327).one() \n",
    "print(annotation_type.Name)\n",
    "print(author.PersonFirstName)\n",
    "print(citation.Title)\n",
    "tsrvavalueids = []\n",
    "annotation = Annotations(AnnotationTypeCV=annotation_type.Name,\n",
    "                           AnnotationCode = annotationcontainer.children[0].value,\n",
    "                           AnnotationText = annotationcontainer.children[1].value,\n",
    "                           AnnotationDateTime = datetime.datetime.now(),\n",
    "                           AnnotationUTCOffset = 0,\n",
    "                           AnnotationLink = 'test',\n",
    "                           AnnotatorID = 1,\n",
    "                           CitationID =327)\n",
    "print(annotation)\n",
    "DBSession.add(annotation)\n",
    "DBSession.commit()\n",
    "annotationid = annotation.AnnotationID\n",
    "print(annotation)\n",
    "for i in inds:\n",
    "    valueid = s1.data['z'][i]\n",
    "    tsrvAnnotation = TimeSeriesResultValueAnnotations(ValueID = valueid,\n",
    "                                                     AnnotationID =annotationid)\n",
    "    DBSession.add(tsrvAnnotation)\n",
    "    DBSession.commit()\n",
    "    tsrvavalueids.append(tsrvAnnotation.BridgeID)\n",
    "for i in inds:\n",
    "    valueid = s1.data['z'][i]\n",
    "    tsrv = DBSession.query(TimeSeriesResultValues).filter_by(ValueID=valueid).one()\n",
    "    tsrv.QualityCodeCV = dataqualityWidget.value\n",
    "DBSession.commit()    "
   ]
  },
  {
   "cell_type": "markdown",
   "metadata": {},
   "source": [
    "<p> 1) This will last block of code will delete the values back out of the database. </p>"
   ]
  },
  {
   "cell_type": "code",
   "execution_count": null,
   "metadata": {
    "collapsed": true
   },
   "outputs": [],
   "source": [
    "\n",
    "#print(tsrvavalueids)\n",
    "time_series_values_annotations = DBSession.query(TimeSeriesResultValueAnnotations).filter(\n",
    "        TimeSeriesResultValueAnnotations.BridgeID.in_(tsrvavalueids))\n",
    "for time_series_value_annotation in time_series_values_annotations:\n",
    "    DBSession.delete(time_series_value_annotation)\n",
    "DBSession.commit()\n",
    "\n",
    "DBSession.delete(annotation)\n",
    "DBSession.commit()"
   ]
  },
  {
   "cell_type": "code",
   "execution_count": 19,
   "metadata": {
    "collapsed": false
   },
   "outputs": [
    {
     "name": "stdout",
     "output_type": "stream",
     "text": [
      "[21, 22, 23, 24, 25, 26, 27]\n"
     ]
    }
   ],
   "source": [
    "print(tsrvavalueids)"
   ]
  },
  {
   "cell_type": "code",
   "execution_count": null,
   "metadata": {
    "collapsed": true
   },
   "outputs": [],
   "source": []
  }
 ],
 "metadata": {
  "kernelspec": {
   "display_name": "Python 2",
   "language": "python",
   "name": "python2"
  },
  "language_info": {
   "codemirror_mode": {
    "name": "ipython",
    "version": 2
   },
   "file_extension": ".py",
   "mimetype": "text/x-python",
   "name": "python",
   "nbconvert_exporter": "python",
   "pygments_lexer": "ipython2",
   "version": "2.7.12"
  },
  "widgets": {
   "state": {
    "10bd72d513e547bd8b59bb4768f466e7": {
     "views": [
      {
       "cell_index": 10
      }
     ]
    },
    "5ec2fbee59244763974e7f9c753f60b0": {
     "views": [
      {
       "cell_index": 11
      }
     ]
    },
    "9121ce0d00664e5e9570b2d93f5017a8": {
     "views": [
      {
       "cell_index": 23
      }
     ]
    },
    "e894fdd7875b42b5b4e5b08187554de4": {
     "views": [
      {
       "cell_index": 3
      }
     ]
    },
    "fbb57071ef5c488da67705269ce0299a": {
     "views": [
      {
       "cell_index": 13
      }
     ]
    }
   },
   "version": "1.2.0"
  }
 },
 "nbformat": 4,
 "nbformat_minor": 2
}
