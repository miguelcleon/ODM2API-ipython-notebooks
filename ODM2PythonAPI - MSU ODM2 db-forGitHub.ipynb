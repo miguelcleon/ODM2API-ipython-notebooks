{
 "cells": [
  {
   "cell_type": "markdown",
   "metadata": {},
   "source": [
    "<h1>Connect to MSU ODM2 database get time series results and run some statistics. Then copy dataloggerfiles for Manistee sensors. </h1>\n",
    "<p>1) Import odm2api to enable a database connection</p>"
   ]
  },
  {
   "cell_type": "code",
   "execution_count": 1,
   "metadata": {},
   "outputs": [],
   "source": [
    "import numpy\n",
    "from odm2api.ODMconnection import dbconnection\n",
    "import odm2api.ODM2.services.readService as odm2\n",
    "from odm2api.ODM2.models import *\n",
    "\n",
    "# ! conda create -n odm2apienv -c odm2 python=2.7 odm2api\n",
    "# ! conda info odm2api\n",
    "# ! source activate odm2apienv\n",
    "\n",
    "# ! conda list\n",
    "\n",
    "# run these ones\n",
    "! source activate python2\n",
    "! pip install --upgrade git+git://github.com/miguelcleon/ODM2PythonAPI@master"
   ]
  },
  {
   "cell_type": "markdown",
   "metadata": {},
   "source": [
    "<p>2) connect to the database and create a read service for it.</p>"
   ]
  },
  {
   "cell_type": "code",
   "execution_count": 2,
   "metadata": {},
   "outputs": [],
   "source": [
    "session_factory = dbconnection.createConnection('postgresql', 'x.x.x.x', 'msu', \n",
    "                                                'user', 'pwd')\n",
    "read = odm2.ReadODM2(session_factory)\n",
    "DBSession = session_factory.getSession()"
   ]
  },
  {
   "cell_type": "markdown",
   "metadata": {},
   "source": [
    "<p>3) get time series result values for a result.<p>"
   ]
  },
  {
   "cell_type": "code",
   "execution_count": 3,
   "metadata": {},
   "outputs": [],
   "source": [
    "tempResultValues = read.getResultValues(resultids=[125], starttime='2015-9-1', \n",
    "                                                 endtime= '2015-9-10')"
   ]
  },
  {
   "cell_type": "markdown",
   "metadata": {},
   "source": [
    "<p>4) run some basic statistics using the numpy library. M-6 Manistee River temperature.</p>"
   ]
  },
  {
   "cell_type": "code",
   "execution_count": 4,
   "metadata": {},
   "outputs": [
    {
     "name": "stdout",
     "output_type": "stream",
     "text": [
      "M-6 Manistee River\n",
      "maximum of values\n",
      "valueid                                       2675059\n",
      "resultid                                          125\n",
      "datavalue                                        19.7\n",
      "valuedatetime                     2015-09-10 00:00:00\n",
      "valuedatetimeutcoffset                              4\n",
      "censorcodecv                             Not censored\n",
      "qualitycodecv                                    Good\n",
      "timeaggregationinterval                            15\n",
      "timeaggregationintervalunitsid                      8\n",
      "dtype: object\n",
      "minimum of values\n",
      "valueid                                       2673331\n",
      "resultid                                          125\n",
      "datavalue                                        14.5\n",
      "valuedatetime                     2015-09-01 00:00:00\n",
      "valuedatetimeutcoffset                              4\n",
      "censorcodecv                             Not censored\n",
      "qualitycodecv                                    Good\n",
      "timeaggregationinterval                            15\n",
      "timeaggregationintervalunitsid                      8\n",
      "dtype: object\n",
      "mean value\n",
      "16.6032332564\n",
      "standard deviation of values\n",
      "1.25100926779\n"
     ]
    }
   ],
   "source": [
    "print(\"M-6 Manistee River\")\n",
    "print(\"maximum of values\")\n",
    "print(numpy.amax(tempResultValues))\n",
    "print(\"minimum of values\")\n",
    "print(numpy.amin(tempResultValues)) \n",
    "print(\"mean value\")\n",
    "varmean = numpy.mean(tempResultValues['datavalue'])\n",
    "print(numpy.mean(tempResultValues['datavalue']))\n",
    "print(\"standard deviation of values\")\n",
    "varstd = numpy.std(tempResultValues['datavalue'])\n",
    "print(numpy.std(tempResultValues['datavalue'])) "
   ]
  },
  {
   "cell_type": "code",
   "execution_count": 5,
   "metadata": {},
   "outputs": [
    {
     "name": "stdout",
     "output_type": "stream",
     "text": [
      "<DataLoggerFiles({'DataLoggerOutputFileLink': u'dataloggerfiles/38099_001.PRN', 'ProgramID': 1, 'DataLoggerOutputFileDescription': u'M1', 'DataLoggerFileName': u'M1', 'DataLoggerFileID': 9})>\n"
     ]
    }
   ],
   "source": [
    "template_dataloggerfile =  DBSession.query(DataLoggerFiles).filter_by(DataLoggerFileID=9).one()\n",
    "print(template_dataloggerfile)\n",
    "dlfcs = DBSession.query(DataLoggerFileColumns).filter_by(DataLoggerFileID=9)\n",
    "#for dlfc in dlfcs:\n",
    "#    print(dlfc)"
   ]
  },
  {
   "cell_type": "markdown",
   "metadata": {},
   "source": [
    "No sampling feature with id 4, sampling feature with id 3 'A-2 Bradford Creek' already has a data logger file.  \n",
    "A-2 bradford creek is here: \n",
    "http://msu-odm2admin.cuahsi.org/MSU/odm2admin/samplingfeatures/3/change/ "
   ]
  },
  {
   "cell_type": "code",
   "execution_count": 6,
   "metadata": {},
   "outputs": [
    {
     "name": "stdout",
     "output_type": "stream",
     "text": [
      "2\n",
      "A-1 Kolke Creek Kolke Creek Circle Trail\n",
      "3\n",
      "4\n",
      "5\n",
      "A-4 AuSable River (Main, W. of Grayling) MI-72 West\n",
      "6\n",
      "A-6 E. Branch AuSable River (Lower) Wilcox Bridge Road\n",
      "7\n",
      "A-7 E. Branch AuSable River (Mid) W. Karen Lake Road\n",
      "8\n",
      "A-8 Tributary to E. Branch AuSable River Lewiston Grade\n",
      "9\n",
      "A-9 E. Branch AuSable River (Upper) CR 612\n",
      "10\n",
      "A-11 AuSable River (Main) S. Wakeley Bridge Road\n",
      "11\n",
      "A-13 S. Branch AuSable River (Upper) Chase Bridge Road\n",
      "12\n",
      "A-14 AuSable River (Main) McMasters Bridge Road\n",
      "13\n",
      "A-15 N. Branch AuSable River  Flashlight Drive\n",
      "14\n",
      "A-16 N. Branch AuSable River (Mid) CR 612 (Lovells)\n",
      "15\n",
      "A-18 West Branch Big Creek M-72 Durfee Road\n",
      "16\n",
      "A-19 Middle Branch Big Creek Walsh Road\n",
      "17\n",
      "A-20 Ausable River  Red Oak Road\n",
      "18\n",
      "A-21 Big Creek Randall Road\n",
      "19\n",
      "A-23 Rabbit and Beaver Creeks Stephan Bridge Road\n"
     ]
    }
   ],
   "source": [
    "\n",
    "for i in range(2,20):\n",
    "    print(i)\n",
    "    if i == 3 or i==4:\n",
    "        continue\n",
    "    sampling_feature =  DBSession.query(SamplingFeatures).filter_by(SamplingFeatureID=i).one()\n",
    "    print(sampling_feature.SamplingFeatureDescription)"
   ]
  },
  {
   "cell_type": "code",
   "execution_count": 7,
   "metadata": {},
   "outputs": [
    {
     "name": "stdout",
     "output_type": "stream",
     "text": [
      "2\n",
      "<DataLoggerFileColumns({'ScanIntervalUnitsID': None, 'DataLoggerFileColumnID': 44, 'RecordingIntervalUnitsID': 8, 'InstrumentOutputVariableID': 11, 'ScanInterval': None, 'MeasurementEquation': u'', 'ColumnDescription': u'datetime', 'RecordingInterval': 15.0, 'ColumnLabel': u'Date and Time', 'ResultID': 99L, 'DataLoggerFileID': 9, 'AggregationStatisticCV': None})>\n",
      "<DataLoggerFileColumns({})>\n",
      "<DataLoggerFileColumns({})>\n",
      "<DataLoggerFileColumns({})>\n",
      "<DataLoggerFileColumns({})>\n",
      "<DataLoggerFileColumns({})>\n",
      "5\n",
      "<DataLoggerFileColumns({'ScanIntervalUnitsID': None, 'DataLoggerFileColumnID': 44, 'RecordingIntervalUnitsID': 8, 'InstrumentOutputVariableID': 11, 'ScanInterval': None, 'MeasurementEquation': u'', 'ColumnDescription': u'datetime', 'RecordingInterval': 15.0, 'ColumnLabel': u'Date and Time', 'ResultID': 99L, 'DataLoggerFileID': 9, 'AggregationStatisticCV': None})>\n",
      "<DataLoggerFileColumns({})>\n",
      "<DataLoggerFileColumns({})>\n",
      "<DataLoggerFileColumns({})>\n",
      "<DataLoggerFileColumns({})>\n",
      "<DataLoggerFileColumns({})>\n",
      "6\n",
      "<DataLoggerFileColumns({'ScanIntervalUnitsID': None, 'DataLoggerFileColumnID': 44, 'RecordingIntervalUnitsID': 8, 'InstrumentOutputVariableID': 11, 'ScanInterval': None, 'MeasurementEquation': u'', 'ColumnDescription': u'datetime', 'RecordingInterval': 15.0, 'ColumnLabel': u'Date and Time', 'ResultID': 99L, 'DataLoggerFileID': 9, 'AggregationStatisticCV': None})>\n",
      "<DataLoggerFileColumns({})>\n",
      "<DataLoggerFileColumns({})>\n",
      "<DataLoggerFileColumns({})>\n",
      "<DataLoggerFileColumns({})>\n",
      "<DataLoggerFileColumns({})>\n",
      "7\n",
      "<DataLoggerFileColumns({'ScanIntervalUnitsID': None, 'DataLoggerFileColumnID': 44, 'RecordingIntervalUnitsID': 8, 'InstrumentOutputVariableID': 11, 'ScanInterval': None, 'MeasurementEquation': u'', 'ColumnDescription': u'datetime', 'RecordingInterval': 15.0, 'ColumnLabel': u'Date and Time', 'ResultID': 99L, 'DataLoggerFileID': 9, 'AggregationStatisticCV': None})>\n",
      "<DataLoggerFileColumns({})>\n",
      "<DataLoggerFileColumns({})>\n",
      "<DataLoggerFileColumns({})>\n",
      "<DataLoggerFileColumns({})>\n",
      "<DataLoggerFileColumns({})>\n",
      "8\n",
      "<DataLoggerFileColumns({'ScanIntervalUnitsID': None, 'DataLoggerFileColumnID': 44, 'RecordingIntervalUnitsID': 8, 'InstrumentOutputVariableID': 11, 'ScanInterval': None, 'MeasurementEquation': u'', 'ColumnDescription': u'datetime', 'RecordingInterval': 15.0, 'ColumnLabel': u'Date and Time', 'ResultID': 99L, 'DataLoggerFileID': 9, 'AggregationStatisticCV': None})>\n",
      "<DataLoggerFileColumns({})>\n",
      "<DataLoggerFileColumns({})>\n",
      "<DataLoggerFileColumns({})>\n",
      "<DataLoggerFileColumns({})>\n",
      "<DataLoggerFileColumns({})>\n",
      "9\n",
      "<DataLoggerFileColumns({'ScanIntervalUnitsID': None, 'DataLoggerFileColumnID': 44, 'RecordingIntervalUnitsID': 8, 'InstrumentOutputVariableID': 11, 'ScanInterval': None, 'MeasurementEquation': u'', 'ColumnDescription': u'datetime', 'RecordingInterval': 15.0, 'ColumnLabel': u'Date and Time', 'ResultID': 99L, 'DataLoggerFileID': 9, 'AggregationStatisticCV': None})>\n",
      "<DataLoggerFileColumns({})>\n",
      "<DataLoggerFileColumns({})>\n",
      "<DataLoggerFileColumns({})>\n",
      "<DataLoggerFileColumns({})>\n",
      "<DataLoggerFileColumns({})>\n",
      "10\n",
      "<DataLoggerFileColumns({'ScanIntervalUnitsID': None, 'DataLoggerFileColumnID': 44, 'RecordingIntervalUnitsID': 8, 'InstrumentOutputVariableID': 11, 'ScanInterval': None, 'MeasurementEquation': u'', 'ColumnDescription': u'datetime', 'RecordingInterval': 15.0, 'ColumnLabel': u'Date and Time', 'ResultID': 99L, 'DataLoggerFileID': 9, 'AggregationStatisticCV': None})>\n",
      "<DataLoggerFileColumns({})>\n",
      "<DataLoggerFileColumns({})>\n",
      "<DataLoggerFileColumns({})>\n",
      "<DataLoggerFileColumns({})>\n",
      "<DataLoggerFileColumns({})>\n",
      "11\n",
      "<DataLoggerFileColumns({'ScanIntervalUnitsID': None, 'DataLoggerFileColumnID': 44, 'RecordingIntervalUnitsID': 8, 'InstrumentOutputVariableID': 11, 'ScanInterval': None, 'MeasurementEquation': u'', 'ColumnDescription': u'datetime', 'RecordingInterval': 15.0, 'ColumnLabel': u'Date and Time', 'ResultID': 99L, 'DataLoggerFileID': 9, 'AggregationStatisticCV': None})>\n",
      "<DataLoggerFileColumns({})>\n",
      "<DataLoggerFileColumns({})>\n",
      "<DataLoggerFileColumns({})>\n",
      "<DataLoggerFileColumns({})>\n",
      "<DataLoggerFileColumns({})>\n",
      "12\n",
      "<DataLoggerFileColumns({'ScanIntervalUnitsID': None, 'DataLoggerFileColumnID': 44, 'RecordingIntervalUnitsID': 8, 'InstrumentOutputVariableID': 11, 'ScanInterval': None, 'MeasurementEquation': u'', 'ColumnDescription': u'datetime', 'RecordingInterval': 15.0, 'ColumnLabel': u'Date and Time', 'ResultID': 99L, 'DataLoggerFileID': 9, 'AggregationStatisticCV': None})>\n",
      "<DataLoggerFileColumns({})>\n",
      "<DataLoggerFileColumns({})>\n",
      "<DataLoggerFileColumns({})>\n",
      "<DataLoggerFileColumns({})>\n",
      "<DataLoggerFileColumns({})>\n",
      "13\n",
      "<DataLoggerFileColumns({'ScanIntervalUnitsID': None, 'DataLoggerFileColumnID': 44, 'RecordingIntervalUnitsID': 8, 'InstrumentOutputVariableID': 11, 'ScanInterval': None, 'MeasurementEquation': u'', 'ColumnDescription': u'datetime', 'RecordingInterval': 15.0, 'ColumnLabel': u'Date and Time', 'ResultID': 99L, 'DataLoggerFileID': 9, 'AggregationStatisticCV': None})>\n",
      "<DataLoggerFileColumns({})>\n",
      "<DataLoggerFileColumns({})>\n",
      "<DataLoggerFileColumns({})>\n",
      "<DataLoggerFileColumns({})>\n",
      "<DataLoggerFileColumns({})>\n",
      "14\n",
      "<DataLoggerFileColumns({'ScanIntervalUnitsID': None, 'DataLoggerFileColumnID': 44, 'RecordingIntervalUnitsID': 8, 'InstrumentOutputVariableID': 11, 'ScanInterval': None, 'MeasurementEquation': u'', 'ColumnDescription': u'datetime', 'RecordingInterval': 15.0, 'ColumnLabel': u'Date and Time', 'ResultID': 99L, 'DataLoggerFileID': 9, 'AggregationStatisticCV': None})>\n",
      "<DataLoggerFileColumns({})>\n",
      "<DataLoggerFileColumns({})>\n",
      "<DataLoggerFileColumns({})>\n",
      "<DataLoggerFileColumns({})>\n",
      "<DataLoggerFileColumns({})>\n",
      "15\n",
      "<DataLoggerFileColumns({'ScanIntervalUnitsID': None, 'DataLoggerFileColumnID': 44, 'RecordingIntervalUnitsID': 8, 'InstrumentOutputVariableID': 11, 'ScanInterval': None, 'MeasurementEquation': u'', 'ColumnDescription': u'datetime', 'RecordingInterval': 15.0, 'ColumnLabel': u'Date and Time', 'ResultID': 99L, 'DataLoggerFileID': 9, 'AggregationStatisticCV': None})>\n",
      "<DataLoggerFileColumns({})>\n",
      "<DataLoggerFileColumns({})>\n",
      "<DataLoggerFileColumns({})>\n",
      "<DataLoggerFileColumns({})>\n",
      "<DataLoggerFileColumns({})>\n",
      "16\n",
      "<DataLoggerFileColumns({'ScanIntervalUnitsID': None, 'DataLoggerFileColumnID': 44, 'RecordingIntervalUnitsID': 8, 'InstrumentOutputVariableID': 11, 'ScanInterval': None, 'MeasurementEquation': u'', 'ColumnDescription': u'datetime', 'RecordingInterval': 15.0, 'ColumnLabel': u'Date and Time', 'ResultID': 99L, 'DataLoggerFileID': 9, 'AggregationStatisticCV': None})>\n",
      "<DataLoggerFileColumns({})>\n",
      "<DataLoggerFileColumns({})>\n",
      "<DataLoggerFileColumns({})>\n",
      "<DataLoggerFileColumns({})>\n",
      "<DataLoggerFileColumns({})>\n",
      "17\n",
      "<DataLoggerFileColumns({'ScanIntervalUnitsID': None, 'DataLoggerFileColumnID': 44, 'RecordingIntervalUnitsID': 8, 'InstrumentOutputVariableID': 11, 'ScanInterval': None, 'MeasurementEquation': u'', 'ColumnDescription': u'datetime', 'RecordingInterval': 15.0, 'ColumnLabel': u'Date and Time', 'ResultID': 99L, 'DataLoggerFileID': 9, 'AggregationStatisticCV': None})>\n",
      "<DataLoggerFileColumns({})>\n",
      "<DataLoggerFileColumns({})>\n",
      "<DataLoggerFileColumns({})>\n",
      "<DataLoggerFileColumns({})>\n",
      "<DataLoggerFileColumns({})>\n",
      "18\n",
      "<DataLoggerFileColumns({'ScanIntervalUnitsID': None, 'DataLoggerFileColumnID': 44, 'RecordingIntervalUnitsID': 8, 'InstrumentOutputVariableID': 11, 'ScanInterval': None, 'MeasurementEquation': u'', 'ColumnDescription': u'datetime', 'RecordingInterval': 15.0, 'ColumnLabel': u'Date and Time', 'ResultID': 99L, 'DataLoggerFileID': 9, 'AggregationStatisticCV': None})>\n",
      "<DataLoggerFileColumns({})>\n",
      "<DataLoggerFileColumns({})>\n",
      "<DataLoggerFileColumns({})>\n",
      "<DataLoggerFileColumns({})>\n",
      "<DataLoggerFileColumns({})>\n",
      "19\n",
      "<DataLoggerFileColumns({'ScanIntervalUnitsID': None, 'DataLoggerFileColumnID': 44, 'RecordingIntervalUnitsID': 8, 'InstrumentOutputVariableID': 11, 'ScanInterval': None, 'MeasurementEquation': u'', 'ColumnDescription': u'datetime', 'RecordingInterval': 15.0, 'ColumnLabel': u'Date and Time', 'ResultID': 99L, 'DataLoggerFileID': 9, 'AggregationStatisticCV': None})>\n",
      "<DataLoggerFileColumns({})>\n",
      "<DataLoggerFileColumns({})>\n",
      "<DataLoggerFileColumns({})>\n",
      "<DataLoggerFileColumns({})>\n",
      "<DataLoggerFileColumns({})>\n"
     ]
    }
   ],
   "source": [
    "new_data_logger_file_ids = []\n",
    "\n",
    "for i in range(2,20): #start range at when running for real 2\n",
    "    if i == 3 or i==4:\n",
    "        continue\n",
    "    print(i)\n",
    "    sampling_feature =  DBSession.query(SamplingFeatures).filter_by(SamplingFeatureID=i).one()\n",
    "    template_dataloggerfile =  DBSession.query(DataLoggerFiles).filter_by(DataLoggerFileID=9).one()\n",
    "    #template_dataloggerfile.save()\n",
    "    new_dataloggerfile =DataLoggerFiles(ProgramID=1, DataLoggerFileName=sampling_feature.SamplingFeatureCode, \n",
    "                                        DataLoggerOutputFileDescription=sampling_feature.SamplingFeatureName,\n",
    "                                       DataLoggerOutputFileLink ='')\n",
    "    DBSession.add(new_dataloggerfile)\n",
    "    DBSession.commit()\n",
    "    new_data_logger_file_ids.append(new_dataloggerfile.DataLoggerFileID)\n",
    "    results = DBSession.query(Results).join(FeatureActions).filter(FeatureActions.SamplingFeatureID==i)\n",
    "    #for result in results:\n",
    "    #    print(result)\n",
    "    #results = Results.objects.filter(featureactionid__samplingfeatureid=i)\n",
    "    \n",
    "    dlfcs = DBSession.query(DataLoggerFileColumns).filter_by(DataLoggerFileID=9)\n",
    "    for dlfc in dlfcs:\n",
    "        print(dlfc)\n",
    "        for result in results:\n",
    "            old_dlfc_result = DBSession.query(Results).filter_by(ResultID=dlfc.ResultID).one()\n",
    "            if result.VariableID == old_dlfc_result.VariableID:\n",
    "                new_dlfc = DataLoggerFileColumns(ResultID= result.ResultID,\n",
    "                                                 DataLoggerFileID = new_dataloggerfile.DataLoggerFileID, \n",
    "                                                 InstrumentOutputVariableID = dlfc.InstrumentOutputVariableID,\n",
    "                                                ColumnLabel = dlfc.ColumnLabel,\n",
    "                                                ColumnDescription = dlfc.ColumnDescription,\n",
    "                                                MeasurementEquation = dlfc.MeasurementEquation,\n",
    "                                                ScanInterval = dlfc.ScanInterval,\n",
    "                                                ScanIntervalUnitsID = dlfc.ScanIntervalUnitsID,\n",
    "                                                RecordingInterval = dlfc.RecordingInterval,\n",
    "                                                RecordingIntervalUnitsID = dlfc.RecordingIntervalUnitsID,\n",
    "                                                AggregationStatisticCV = dlfc.AggregationStatisticCV)\n",
    "                DBSession.add(new_dlfc)\n",
    "                DBSession.commit()\n",
    "        "
   ]
  },
  {
   "cell_type": "markdown",
   "metadata": {},
   "source": [
    "Only run the next section if you want to delete the dataloggerfiles we just created. "
   ]
  },
  {
   "cell_type": "code",
   "execution_count": 8,
   "metadata": {},
   "outputs": [],
   "source": [
    "new_data_logger_files = DBSession.query(DataLoggerFiles).filter(\n",
    "        DataLoggerFiles.DataLoggerFileID.in_(new_data_logger_file_ids))\n",
    "for new_data_logger_file in new_data_logger_files:\n",
    "    DBSession.delete(new_data_logger_file)\n",
    "DBSession.commit()"
   ]
  },
  {
   "cell_type": "code",
   "execution_count": null,
   "metadata": {},
   "outputs": [],
   "source": []
  }
 ],
 "metadata": {
  "kernelspec": {
   "display_name": "Python 2.7",
   "language": "python",
   "name": "python2"
  },
  "language_info": {
   "codemirror_mode": {
    "name": "ipython",
    "version": 2
   },
   "file_extension": ".py",
   "mimetype": "text/x-python",
   "name": "python",
   "nbconvert_exporter": "python",
   "pygments_lexer": "ipython2",
   "version": "2.7.14"
  }
 },
 "nbformat": 4,
 "nbformat_minor": 1
}
